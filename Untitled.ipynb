{
 "cells": [
  {
   "cell_type": "code",
   "execution_count": null,
   "id": "46ca917b-eb89-40d7-aac5-40411c69debc",
   "metadata": {},
   "outputs": [],
   "source": []
  },
  {
   "cell_type": "code",
   "execution_count": null,
   "id": "1acf2e63-e686-4fb2-b0ad-2f343d4f0713",
   "metadata": {},
   "outputs": [],
   "source": []
  },
  {
   "cell_type": "code",
   "execution_count": 4,
   "id": "590087de-c7b2-4aa6-9089-30b3bcef0b92",
   "metadata": {},
   "outputs": [],
   "source": [
    "#이렇게 설명을 쓸 수 있는 노트북"
   ]
  },
  {
   "cell_type": "code",
   "execution_count": null,
   "id": "37476525-c85f-4afd-a0a4-43838645a5fa",
   "metadata": {},
   "outputs": [],
   "source": []
  },
  {
   "cell_type": "code",
   "execution_count": null,
   "id": "527b96ae-cc55-4a07-ad5b-859115b7e570",
   "metadata": {},
   "outputs": [],
   "source": []
  }
 ],
 "metadata": {
  "kernelspec": {
   "display_name": "Python 3 (ipykernel)",
   "language": "python",
   "name": "python3"
  },
  "language_info": {
   "codemirror_mode": {
    "name": "ipython",
    "version": 3
   },
   "file_extension": ".py",
   "mimetype": "text/x-python",
   "name": "python",
   "nbconvert_exporter": "python",
   "pygments_lexer": "ipython3",
   "version": "3.9.7"
  }
 },
 "nbformat": 4,
 "nbformat_minor": 5
}
