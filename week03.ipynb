{
 "cells": [
  {
   "cell_type": "code",
   "execution_count": 1,
   "id": "fbb858a2-f800-48c6-af0a-d0b83dab3d93",
   "metadata": {},
   "outputs": [
    {
     "name": "stdout",
     "output_type": "stream",
     "text": [
      "012345\n",
      "Python\n"
     ]
    }
   ],
   "source": [
    "test = 'Python'\n",
    "print('012345')\n",
    "print(test)"
   ]
  },
  {
   "cell_type": "code",
   "execution_count": 3,
   "id": "55d32cd9-c806-4963-98d0-2cdc16b22765",
   "metadata": {},
   "outputs": [
    {
     "data": {
      "text/plain": [
       "'P'"
      ]
     },
     "execution_count": 3,
     "metadata": {},
     "output_type": "execute_result"
    }
   ],
   "source": [
    "test[0]"
   ]
  },
  {
   "cell_type": "code",
   "execution_count": 4,
   "id": "2cd0038c-42cd-428a-b9d4-fa7591cea83f",
   "metadata": {},
   "outputs": [
    {
     "data": {
      "text/plain": [
       "'t'"
      ]
     },
     "execution_count": 4,
     "metadata": {},
     "output_type": "execute_result"
    }
   ],
   "source": [
    "test[-4]"
   ]
  },
  {
   "cell_type": "code",
   "execution_count": 5,
   "id": "f3a49355-00b8-4883-8258-3b11b8807bb5",
   "metadata": {},
   "outputs": [
    {
     "data": {
      "text/plain": [
       "'yth'"
      ]
     },
     "execution_count": 5,
     "metadata": {},
     "output_type": "execute_result"
    }
   ],
   "source": [
    "test[1:4]"
   ]
  },
  {
   "cell_type": "code",
   "execution_count": 6,
   "id": "8e28e3c6-849b-4f74-a60a-35273d710193",
   "metadata": {},
   "outputs": [
    {
     "data": {
      "text/plain": [
       "'Pyth'"
      ]
     },
     "execution_count": 6,
     "metadata": {},
     "output_type": "execute_result"
    }
   ],
   "source": [
    "test[-6:-2]"
   ]
  },
  {
   "cell_type": "code",
   "execution_count": 7,
   "id": "226a8ff3-2db0-4587-83a8-78ed1d9005fc",
   "metadata": {},
   "outputs": [
    {
     "data": {
      "text/plain": [
       "'ohty'"
      ]
     },
     "execution_count": 7,
     "metadata": {},
     "output_type": "execute_result"
    }
   ],
   "source": [
    "test[-2:-6:-1]"
   ]
  },
  {
   "cell_type": "code",
   "execution_count": 8,
   "id": "ac61b251-4897-47fd-9095-5fd95d4bab09",
   "metadata": {},
   "outputs": [
    {
     "data": {
      "text/plain": [
       "'Pto'"
      ]
     },
     "execution_count": 8,
     "metadata": {},
     "output_type": "execute_result"
    }
   ],
   "source": [
    "test[::2]"
   ]
  },
  {
   "cell_type": "code",
   "execution_count": 12,
   "id": "bf3eb89e-b1ce-4ab4-aea0-9eb812876c0b",
   "metadata": {},
   "outputs": [
    {
     "data": {
      "text/plain": [
       "'nohtyP'"
      ]
     },
     "execution_count": 12,
     "metadata": {},
     "output_type": "execute_result"
    }
   ],
   "source": [
    "test[::-1]"
   ]
  },
  {
   "cell_type": "code",
   "execution_count": 16,
   "id": "be634dad-f8cc-423c-b043-19dbe5348a59",
   "metadata": {},
   "outputs": [
    {
     "data": {
      "text/plain": [
       "(65, 66, 97)"
      ]
     },
     "execution_count": 16,
     "metadata": {},
     "output_type": "execute_result"
    }
   ],
   "source": [
    "ord('A'), ord('B'), ord('a')"
   ]
  },
  {
   "cell_type": "code",
   "execution_count": 14,
   "id": "675f29e6-377c-4abe-a8e0-9deeb45c57ac",
   "metadata": {},
   "outputs": [
    {
     "data": {
      "text/plain": [
       "44032"
      ]
     },
     "execution_count": 14,
     "metadata": {},
     "output_type": "execute_result"
    }
   ],
   "source": [
    "ord('가')"
   ]
  },
  {
   "cell_type": "code",
   "execution_count": 17,
   "id": "34638d65-d5eb-40be-828c-eaf8b2b0390a",
   "metadata": {},
   "outputs": [
    {
     "data": {
      "text/plain": [
       "'A'"
      ]
     },
     "execution_count": 17,
     "metadata": {},
     "output_type": "execute_result"
    }
   ],
   "source": [
    "chr(65)"
   ]
  },
  {
   "cell_type": "code",
   "execution_count": 24,
   "id": "bf190efb-3384-4465-aed5-13a9eb00bb0a",
   "metadata": {},
   "outputs": [
    {
     "name": "stdout",
     "output_type": "stream",
     "text": [
      "백슬래시 출력:\\\\ \n",
      "줄바꿈: \\n \n",
      " 탭: \t \" ' 탭!\n"
     ]
    }
   ],
   "source": [
    "print('백슬래시 출력:\\\\\\\\ \\n줄바꿈: \\\\n \\n 탭: \\t \\\" \\' 탭!')"
   ]
  },
  {
   "cell_type": "code",
   "execution_count": 26,
   "id": "df01e63f-d48d-4d49-b9a4-2ff788a70625",
   "metadata": {},
   "outputs": [],
   "source": [
    "test = '사과는 맛있는 과일입니다.'"
   ]
  },
  {
   "cell_type": "code",
   "execution_count": 28,
   "id": "d8d1f74c-2d38-470b-9ee2-f3475be88d64",
   "metadata": {},
   "outputs": [
    {
     "data": {
      "text/plain": [
       "'사과는 맛있는 과일입니다.'"
      ]
     },
     "execution_count": 28,
     "metadata": {},
     "output_type": "execute_result"
    }
   ],
   "source": [
    "#print(test)\n",
    "test"
   ]
  },
  {
   "cell_type": "code",
   "execution_count": 29,
   "id": "856cbc55-7356-4ad7-8085-c0514cf3ac05",
   "metadata": {},
   "outputs": [
    {
     "data": {
      "text/plain": [
       "'망고는 맛있는 과일입니다.'"
      ]
     },
     "execution_count": 29,
     "metadata": {},
     "output_type": "execute_result"
    }
   ],
   "source": [
    "test.replace('사과', '망고')"
   ]
  },
  {
   "cell_type": "code",
   "execution_count": 32,
   "id": "e2c8c73c-49c8-4afc-8ef9-96dde8be9b07",
   "metadata": {},
   "outputs": [
    {
     "name": "stdin",
     "output_type": "stream",
     "text": [
      "실수 5자리 (세자리.두자리) 를 입력하세요: 123.45\n"
     ]
    },
    {
     "name": "stdout",
     "output_type": "stream",
     "text": [
      "15\n"
     ]
    }
   ],
   "source": [
    "value = input('실수 5자리 (세자리.두자리) 를 입력하세요:')\n",
    "\n",
    "value = value.replace('.', '')\n",
    "sum_ = 0\n",
    "sum_ += int(value[0])\n",
    "sum_ += int(value[1])\n",
    "sum_ += int(value[2])\n",
    "sum_ += int(value[3])\n",
    "sum_ += int(value[4])\n",
    "\n",
    "print(sum_)"
   ]
  },
  {
   "cell_type": "code",
   "execution_count": 34,
   "id": "b9aa3ef4-b605-4d5c-af2e-1f6e81661eee",
   "metadata": {},
   "outputs": [
    {
     "data": {
      "text/plain": [
       "2"
      ]
     },
     "execution_count": 34,
     "metadata": {},
     "output_type": "execute_result"
    }
   ],
   "source": [
    "test.count('는')"
   ]
  },
  {
   "cell_type": "code",
   "execution_count": 35,
   "id": "08e231c6-464a-4188-9d83-7ab81e66ab20",
   "metadata": {},
   "outputs": [
    {
     "data": {
      "text/plain": [
       "'1->2->3->4->5'"
      ]
     },
     "execution_count": 35,
     "metadata": {},
     "output_type": "execute_result"
    }
   ],
   "source": [
    "'->'.join('12345')"
   ]
  },
  {
   "cell_type": "code",
   "execution_count": 38,
   "id": "eb892309-3448-4fb1-af95-430d3442f8fe",
   "metadata": {},
   "outputs": [
    {
     "data": {
      "text/plain": [
       "'사과 --- 망고'"
      ]
     },
     "execution_count": 38,
     "metadata": {},
     "output_type": "execute_result"
    }
   ],
   "source": [
    "a = '사과'\n",
    "b = '망고'\n",
    "\n",
    "' --- '.join([a, b])"
   ]
  },
  {
   "cell_type": "code",
   "execution_count": 39,
   "id": "7578e66f-5c81-4ba4-829d-6a0ffdd9a826",
   "metadata": {},
   "outputs": [
    {
     "data": {
      "text/plain": [
       "2"
      ]
     },
     "execution_count": 39,
     "metadata": {},
     "output_type": "execute_result"
    }
   ],
   "source": [
    "test = '애플망고는 너무 맛있어요'\n",
    "test.index('망고')"
   ]
  },
  {
   "cell_type": "code",
   "execution_count": 44,
   "id": "6d4e1ae1-08ed-48d1-8103-a018a1477677",
   "metadata": {},
   "outputs": [
    {
     "data": {
      "text/plain": [
       "-1"
      ]
     },
     "execution_count": 44,
     "metadata": {},
     "output_type": "execute_result"
    }
   ],
   "source": [
    "test.find('맹고')"
   ]
  },
  {
   "cell_type": "code",
   "execution_count": 42,
   "id": "dceff1f9-eea5-4b52-94db-2375646d70dd",
   "metadata": {},
   "outputs": [
    {
     "ename": "ValueError",
     "evalue": "substring not found",
     "output_type": "error",
     "traceback": [
      "\u001b[1;31m---------------------------------------------------------------------------\u001b[0m",
      "\u001b[1;31mValueError\u001b[0m                                Traceback (most recent call last)",
      "\u001b[1;32m~\\AppData\\Local\\Temp/ipykernel_13744/2416342933.py\u001b[0m in \u001b[0;36m<module>\u001b[1;34m\u001b[0m\n\u001b[1;32m----> 1\u001b[1;33m \u001b[0mtest\u001b[0m\u001b[1;33m.\u001b[0m\u001b[0mindex\u001b[0m\u001b[1;33m(\u001b[0m\u001b[1;34m'맹고'\u001b[0m\u001b[1;33m)\u001b[0m\u001b[1;33m\u001b[0m\u001b[1;33m\u001b[0m\u001b[0m\n\u001b[0m",
      "\u001b[1;31mValueError\u001b[0m: substring not found"
     ]
    }
   ],
   "source": [
    "test.index('맹고')"
   ]
  },
  {
   "cell_type": "code",
   "execution_count": 54,
   "id": "79f44112-6bb9-4ff0-9084-3b7b1ad8b392",
   "metadata": {},
   "outputs": [
    {
     "data": {
      "text/plain": [
       "'애'"
      ]
     },
     "execution_count": 54,
     "metadata": {},
     "output_type": "execute_result"
    }
   ],
   "source": [
    "test.split()[0][0]"
   ]
  },
  {
   "cell_type": "code",
   "execution_count": 59,
   "id": "2aa05a52-68a2-44c2-a82f-53ffd2acf3ac",
   "metadata": {},
   "outputs": [
    {
     "data": {
      "text/plain": [
       "'이렇게 빈칸이 생기면 없앨 필요가 있겠죠'"
      ]
     },
     "execution_count": 59,
     "metadata": {},
     "output_type": "execute_result"
    }
   ],
   "source": [
    "' 이렇게 빈칸이 생기면 없앨 필요가 있겠죠?    ' .strip(' ?')"
   ]
  },
  {
   "cell_type": "code",
   "execution_count": 72,
   "id": "6f487557-1ad0-47ea-a73e-44fa235b5d1e",
   "metadata": {},
   "outputs": [
    {
     "name": "stdout",
     "output_type": "stream",
     "text": [
      "10 + 4.5 = 14.5\n"
     ]
    }
   ],
   "source": [
    "a = 10\n",
    "b = 4.5\n",
    "\n",
    "print('{} + {:3.1f} = {}'.format(a, b, a + b))"
   ]
  },
  {
   "cell_type": "code",
   "execution_count": 74,
   "id": "1df69866-361f-4020-95a6-d8bc4db65ef7",
   "metadata": {},
   "outputs": [
    {
     "name": "stdout",
     "output_type": "stream",
     "text": [
      "10 + 4.500 = 14.5\n"
     ]
    }
   ],
   "source": [
    "print(f'{a} + {b:3.3f} = {a+b}')"
   ]
  },
  {
   "cell_type": "code",
   "execution_count": 75,
   "id": "7c7e0bfa-4e65-4290-925b-35024486475c",
   "metadata": {},
   "outputs": [
    {
     "data": {
      "text/plain": [
       "(True, False)"
      ]
     },
     "execution_count": 75,
     "metadata": {},
     "output_type": "execute_result"
    }
   ],
   "source": [
    "True, False"
   ]
  },
  {
   "cell_type": "code",
   "execution_count": 76,
   "id": "51c7e647-f4c2-4b0c-8993-b886ed105d48",
   "metadata": {},
   "outputs": [
    {
     "data": {
      "text/plain": [
       "bool"
      ]
     },
     "execution_count": 76,
     "metadata": {},
     "output_type": "execute_result"
    }
   ],
   "source": [
    "type(True)"
   ]
  },
  {
   "cell_type": "code",
   "execution_count": 77,
   "id": "0b23ab56-e1e2-4ec7-b472-801b453bcf31",
   "metadata": {},
   "outputs": [
    {
     "data": {
      "text/plain": [
       "False"
      ]
     },
     "execution_count": 77,
     "metadata": {},
     "output_type": "execute_result"
    }
   ],
   "source": [
    "True and False"
   ]
  },
  {
   "cell_type": "code",
   "execution_count": 78,
   "id": "5934b69b-4671-40bb-8f6b-5f2fd06c3bf0",
   "metadata": {},
   "outputs": [
    {
     "data": {
      "text/plain": [
       "True"
      ]
     },
     "execution_count": 78,
     "metadata": {},
     "output_type": "execute_result"
    }
   ],
   "source": [
    "True and True"
   ]
  },
  {
   "cell_type": "code",
   "execution_count": 79,
   "id": "1d2678eb-d46e-4d50-beaf-9e09bbb9145b",
   "metadata": {},
   "outputs": [
    {
     "data": {
      "text/plain": [
       "True"
      ]
     },
     "execution_count": 79,
     "metadata": {},
     "output_type": "execute_result"
    }
   ],
   "source": [
    "True or False"
   ]
  },
  {
   "cell_type": "code",
   "execution_count": 80,
   "id": "7f299d51-101e-4c23-971d-4aba7337ac5a",
   "metadata": {},
   "outputs": [
    {
     "data": {
      "text/plain": [
       "False"
      ]
     },
     "execution_count": 80,
     "metadata": {},
     "output_type": "execute_result"
    }
   ],
   "source": [
    "not True"
   ]
  },
  {
   "cell_type": "code",
   "execution_count": 81,
   "id": "f1ce488e-4e01-492a-8d56-e06513f808c7",
   "metadata": {},
   "outputs": [
    {
     "data": {
      "text/plain": [
       "True"
      ]
     },
     "execution_count": 81,
     "metadata": {},
     "output_type": "execute_result"
    }
   ],
   "source": [
    "not False"
   ]
  },
  {
   "cell_type": "code",
   "execution_count": 82,
   "id": "f10051a2-027e-4fd1-918a-c04ce2a694b7",
   "metadata": {},
   "outputs": [
    {
     "ename": "NameError",
     "evalue": "name 'false' is not defined",
     "output_type": "error",
     "traceback": [
      "\u001b[1;31m---------------------------------------------------------------------------\u001b[0m",
      "\u001b[1;31mNameError\u001b[0m                                 Traceback (most recent call last)",
      "\u001b[1;32m~\\AppData\\Local\\Temp/ipykernel_13744/3189745623.py\u001b[0m in \u001b[0;36m<module>\u001b[1;34m\u001b[0m\n\u001b[1;32m----> 1\u001b[1;33m \u001b[1;32mnot\u001b[0m \u001b[0mfalse\u001b[0m\u001b[1;33m\u001b[0m\u001b[1;33m\u001b[0m\u001b[0m\n\u001b[0m",
      "\u001b[1;31mNameError\u001b[0m: name 'false' is not defined"
     ]
    }
   ],
   "source": [
    "not false"
   ]
  },
  {
   "cell_type": "code",
   "execution_count": 84,
   "id": "cbdb7173-8916-42a4-b45d-b49ba18bbb19",
   "metadata": {},
   "outputs": [
    {
     "data": {
      "text/plain": [
       "True"
      ]
     },
     "execution_count": 84,
     "metadata": {},
     "output_type": "execute_result"
    }
   ],
   "source": [
    "# XOR\n",
    "True ^ False"
   ]
  },
  {
   "cell_type": "code",
   "execution_count": 88,
   "id": "1c14a1ea-a48f-4f92-9f92-0b9e6e265402",
   "metadata": {},
   "outputs": [
    {
     "name": "stdin",
     "output_type": "stream",
     "text": [
      "키(cm)와 몸무게(kg)를 입력하세요 >> 168 63\n"
     ]
    },
    {
     "name": "stdout",
     "output_type": "stream",
     "text": [
      "정상, True\n"
     ]
    }
   ],
   "source": [
    "h, w = input('키(cm)와 몸무게(kg)를 입력하세요 >>').split()\n",
    "h = float(h)\n",
    "w = float(w)\n",
    "\n",
    "bmi = w / (h/100)**2\n",
    "\n",
    "\n",
    "print(f'정상, {18.5<=bmi<25}')"
   ]
  },
  {
   "cell_type": "code",
   "execution_count": 93,
   "id": "e7f66fff-1856-49f7-81cd-a2b7cee767bb",
   "metadata": {},
   "outputs": [
    {
     "data": {
      "text/plain": [
       "True"
      ]
     },
     "execution_count": 93,
     "metadata": {},
     "output_type": "execute_result"
    }
   ],
   "source": [
    "# in not in\n",
    "test = '123567890'\n",
    "\n",
    "'4' not in test \n"
   ]
  },
  {
   "cell_type": "code",
   "execution_count": null,
   "id": "6dacddcd-fc91-424f-bdf0-049b585ac8ec",
   "metadata": {},
   "outputs": [],
   "source": []
  }
 ],
 "metadata": {
  "kernelspec": {
   "display_name": "Python 3 (ipykernel)",
   "language": "python",
   "name": "python3"
  },
  "language_info": {
   "codemirror_mode": {
    "name": "ipython",
    "version": 3
   },
   "file_extension": ".py",
   "mimetype": "text/x-python",
   "name": "python",
   "nbconvert_exporter": "python",
   "pygments_lexer": "ipython3",
   "version": "3.9.7"
  }
 },
 "nbformat": 4,
 "nbformat_minor": 5
}
