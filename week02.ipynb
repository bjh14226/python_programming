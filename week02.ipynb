{
 "cells": [
  {
   "cell_type": "code",
   "execution_count": 1,
   "id": "c28071e0-37ef-4c89-add8-4607f05ac803",
   "metadata": {},
   "outputs": [
    {
     "data": {
      "text/plain": [
       "'p'"
      ]
     },
     "execution_count": 1,
     "metadata": {},
     "output_type": "execute_result"
    }
   ],
   "source": [
    "'p'"
   ]
  },
  {
   "cell_type": "code",
   "execution_count": 4,
   "id": "06ac4f3f-d79d-4efe-a5b0-86a2a9bbb012",
   "metadata": {},
   "outputs": [],
   "source": [
    "a = '581273'\n",
    "b = 581273"
   ]
  },
  {
   "cell_type": "code",
   "execution_count": 5,
   "id": "faa4b734-dd23-4216-b347-3a365fa5ef09",
   "metadata": {},
   "outputs": [
    {
     "name": "stdout",
     "output_type": "stream",
     "text": [
      "581273 581273\n"
     ]
    }
   ],
   "source": [
    "print('581273', 581273)"
   ]
  },
  {
   "cell_type": "code",
   "execution_count": 6,
   "id": "2b325530-1cc5-43ae-8871-e356af6e778a",
   "metadata": {},
   "outputs": [
    {
     "data": {
      "text/plain": [
       "str"
      ]
     },
     "execution_count": 6,
     "metadata": {},
     "output_type": "execute_result"
    }
   ],
   "source": [
    "type(a)"
   ]
  },
  {
   "cell_type": "code",
   "execution_count": 7,
   "id": "625d86cd-4497-4828-b24d-1a7a5bec1cc9",
   "metadata": {},
   "outputs": [
    {
     "data": {
      "text/plain": [
       "int"
      ]
     },
     "execution_count": 7,
     "metadata": {},
     "output_type": "execute_result"
    }
   ],
   "source": [
    "type(b)"
   ]
  },
  {
   "cell_type": "code",
   "execution_count": 8,
   "id": "d2fde1b8-c727-4fbc-9c92-04352847c77c",
   "metadata": {},
   "outputs": [
    {
     "data": {
      "text/plain": [
       "float"
      ]
     },
     "execution_count": 8,
     "metadata": {},
     "output_type": "execute_result"
    }
   ],
   "source": [
    "a = 1.234\n",
    "type(a)"
   ]
  },
  {
   "cell_type": "code",
   "execution_count": 11,
   "id": "0a111c50-b87d-4d88-86ea-394d6219e484",
   "metadata": {},
   "outputs": [
    {
     "name": "stdout",
     "output_type": "stream",
     "text": [
      "aaabbb\n"
     ]
    }
   ],
   "source": [
    "#p.33\n",
    "# + * str\n",
    "\n",
    "a = 'apple'\n",
    "b = 'orange'\n",
    "\n",
    "print('aaa' + 'bbb')"
   ]
  },
  {
   "cell_type": "code",
   "execution_count": 10,
   "id": "49e156b8-cea9-4521-82c4-215363b76ab8",
   "metadata": {},
   "outputs": [
    {
     "data": {
      "text/plain": [
       "'appleappleappleappleapple'"
      ]
     },
     "execution_count": 10,
     "metadata": {},
     "output_type": "execute_result"
    }
   ],
   "source": [
    "a * 5"
   ]
  },
  {
   "cell_type": "code",
   "execution_count": 12,
   "id": "5d547b85-53c4-4463-b4c8-badd67c49167",
   "metadata": {},
   "outputs": [
    {
     "name": "stdout",
     "output_type": "stream",
     "text": [
      "\n",
      "askdsfkfk\n",
      "sadkfsdkf\n",
      "weakfewfk\n"
     ]
    }
   ],
   "source": [
    "'''2022년 3월 9일\n",
    "이 부분은 주석 처리용 텍스트를 연습\n",
    "부분입니다'''\n",
    "a = '''\n",
    "askdsfkfk\n",
    "sadkfsdkf\n",
    "weakfewfk'''\n",
    "\n",
    "print(a) #이런 식으로도 주석을 달 수 있습니다"
   ]
  },
  {
   "cell_type": "code",
   "execution_count": 13,
   "id": "39ebdbda-3528-41c4-b063-cd0a4f4f58e8",
   "metadata": {},
   "outputs": [
    {
     "data": {
      "text/plain": [
       "(2.3, 4.5, 6.1)"
      ]
     },
     "execution_count": 13,
     "metadata": {},
     "output_type": "execute_result"
    }
   ],
   "source": [
    "3, 4, 5\n",
    "\n",
    "2.3, 4.5, 6.1"
   ]
  },
  {
   "cell_type": "code",
   "execution_count": 14,
   "id": "6889c487-12c9-402f-b0a1-c73c871b8e14",
   "metadata": {},
   "outputs": [
    {
     "data": {
      "text/plain": [
       "True"
      ]
     },
     "execution_count": 14,
     "metadata": {},
     "output_type": "execute_result"
    }
   ],
   "source": [
    "52e10 == 52*10**10"
   ]
  },
  {
   "cell_type": "code",
   "execution_count": 17,
   "id": "1fbcb98d-22e1-4305-bf2b-216f9818e843",
   "metadata": {},
   "outputs": [
    {
     "name": "stdout",
     "output_type": "stream",
     "text": [
      "52000000 52000000.0 52000000.0\n"
     ]
    }
   ],
   "source": [
    "print(52_000_000, 5.2*10**7, 5.2e7)"
   ]
  },
  {
   "cell_type": "code",
   "execution_count": 19,
   "id": "2a2b5d80-4f0e-4dc1-96c7-88f33e40bf9c",
   "metadata": {},
   "outputs": [
    {
     "data": {
      "text/plain": [
       "(4.0, 3.0)"
      ]
     },
     "execution_count": 19,
     "metadata": {},
     "output_type": "execute_result"
    }
   ],
   "source": [
    "(3+4j).imag, (3+4j).real"
   ]
  },
  {
   "cell_type": "code",
   "execution_count": 20,
   "id": "061b4133-43b1-4589-b70f-4a9004b01183",
   "metadata": {},
   "outputs": [
    {
     "name": "stdout",
     "output_type": "stream",
     "text": [
      "3.1622776601683795\n"
     ]
    }
   ],
   "source": [
    "#((x1-x2)^2 + (y1-y2)^2)^1/2\n",
    "x1 = 5\n",
    "x2 = 2\n",
    "y1 = 3\n",
    "y2 = 4\n",
    "\n",
    "print(((x1 - x2)**2 + (y1 - y2)**2)**0.5)"
   ]
  },
  {
   "cell_type": "code",
   "execution_count": 21,
   "id": "d574119c-149d-4285-94bf-29ad2b487160",
   "metadata": {},
   "outputs": [
    {
     "name": "stdin",
     "output_type": "stream",
     "text": [
      "금액을 입력하세요 78000\n"
     ]
    },
    {
     "name": "stdout",
     "output_type": "stream",
     "text": [
      "오만 원권: 1\n",
      "만 원권: 2\n",
      "오천 원권: 2\n"
     ]
    }
   ],
   "source": [
    "#42\n",
    "amount = int(input('금액을 입력하세요'))\n",
    "\n",
    "print('오만 원권:', amount // 50000)\n",
    "amount %= 50000\n",
    "\n",
    "print('만 원권:', amount // 10000)\n",
    "amount %= 10000\n",
    "\n",
    "print('오천 원권:', amount // 5000 + 1)\n",
    "amount %= 5000\n"
   ]
  },
  {
   "cell_type": "code",
   "execution_count": 22,
   "id": "0062eb42-d7d1-449b-9efa-3468a7710a1f",
   "metadata": {},
   "outputs": [
    {
     "name": "stdout",
     "output_type": "stream",
     "text": [
      "aaa\n",
      "bbb\n",
      "543\n",
      "5.23\n"
     ]
    }
   ],
   "source": [
    "print('aaa', 'bbb', 543, 5.23, sep='\\n')"
   ]
  },
  {
   "cell_type": "code",
   "execution_count": 23,
   "id": "5a652a31-9037-4d12-b88d-4684226306c1",
   "metadata": {},
   "outputs": [
    {
     "name": "stdout",
     "output_type": "stream",
     "text": [
      "<class 'int'> <class 'str'> <class 'str'> <class 'float'>\n"
     ]
    }
   ],
   "source": [
    "#int float str\n",
    "\n",
    "#type casting\n",
    "\n",
    "a = 5\n",
    "b = 'test'\n",
    "c = '123'\n",
    "d = 3.14\n",
    "\n",
    "print(type(a), type(b), type(c), type(d))"
   ]
  },
  {
   "cell_type": "code",
   "execution_count": 24,
   "id": "2c5607fc-cb36-459d-91e2-44a5be8ebb5c",
   "metadata": {},
   "outputs": [
    {
     "data": {
      "text/plain": [
       "'123123123123123'"
      ]
     },
     "execution_count": 24,
     "metadata": {},
     "output_type": "execute_result"
    }
   ],
   "source": [
    "c * a"
   ]
  },
  {
   "cell_type": "code",
   "execution_count": 25,
   "id": "5418d757-e8d3-4df5-9b6b-0f6cb9b6bd08",
   "metadata": {},
   "outputs": [
    {
     "data": {
      "text/plain": [
       "int"
      ]
     },
     "execution_count": 25,
     "metadata": {},
     "output_type": "execute_result"
    }
   ],
   "source": [
    "type(int(c))"
   ]
  },
  {
   "cell_type": "code",
   "execution_count": 26,
   "id": "ebd193c1-91e5-4e78-9aa6-a30f2000b09c",
   "metadata": {},
   "outputs": [
    {
     "data": {
      "text/plain": [
       "615"
      ]
     },
     "execution_count": 26,
     "metadata": {},
     "output_type": "execute_result"
    }
   ],
   "source": [
    "int(c) * a"
   ]
  },
  {
   "cell_type": "code",
   "execution_count": 27,
   "id": "6d6ad56f-d092-431a-be76-4612ddb7ba02",
   "metadata": {},
   "outputs": [
    {
     "ename": "ValueError",
     "evalue": "invalid literal for int() with base 10: 'test'",
     "output_type": "error",
     "traceback": [
      "\u001b[1;31m---------------------------------------------------------------------------\u001b[0m",
      "\u001b[1;31mValueError\u001b[0m                                Traceback (most recent call last)",
      "\u001b[1;32m~\\AppData\\Local\\Temp/ipykernel_14308/3956108814.py\u001b[0m in \u001b[0;36m<module>\u001b[1;34m\u001b[0m\n\u001b[1;32m----> 1\u001b[1;33m \u001b[0mint\u001b[0m\u001b[1;33m(\u001b[0m\u001b[0mb\u001b[0m\u001b[1;33m)\u001b[0m\u001b[1;33m\u001b[0m\u001b[1;33m\u001b[0m\u001b[0m\n\u001b[0m",
      "\u001b[1;31mValueError\u001b[0m: invalid literal for int() with base 10: 'test'"
     ]
    }
   ],
   "source": [
    "int(b)"
   ]
  },
  {
   "cell_type": "code",
   "execution_count": 28,
   "id": "5dc4b527-05dd-447e-bcfc-c8ce0270be68",
   "metadata": {},
   "outputs": [],
   "source": [
    "#변수의 이름\n",
    "#대소문자를 구분한다, 숫자를 쓸 수 있다, _도 쓸 수 있다. 다만, 숫자로 시작하면 안된다.\n",
    "\n",
    "test1 = 5"
   ]
  },
  {
   "cell_type": "code",
   "execution_count": 29,
   "id": "e0836612-bb33-49f6-bd8f-6fbe21ded932",
   "metadata": {},
   "outputs": [
    {
     "ename": "SyntaxError",
     "evalue": "invalid syntax (Temp/ipykernel_14308/809710740.py, line 1)",
     "output_type": "error",
     "traceback": [
      "\u001b[1;36m  File \u001b[1;32m\"C:\\Users\\bjh14\\AppData\\Local\\Temp/ipykernel_14308/809710740.py\"\u001b[1;36m, line \u001b[1;32m1\u001b[0m\n\u001b[1;33m    1test = 5\u001b[0m\n\u001b[1;37m     ^\u001b[0m\n\u001b[1;31mSyntaxError\u001b[0m\u001b[1;31m:\u001b[0m invalid syntax\n"
     ]
    }
   ],
   "source": [
    "1test = 5"
   ]
  },
  {
   "cell_type": "code",
   "execution_count": 30,
   "id": "a812a1aa-4b6d-4ed5-8523-eeda5cc205fd",
   "metadata": {},
   "outputs": [],
   "source": [
    "test_number = 1 #snake case\n",
    "testNumber = 1 #camel case"
   ]
  },
  {
   "cell_type": "code",
   "execution_count": 31,
   "id": "d813d8f1-701b-497a-a8ef-a632b85864dc",
   "metadata": {},
   "outputs": [
    {
     "data": {
      "text/plain": [
       "8"
      ]
     },
     "execution_count": 31,
     "metadata": {},
     "output_type": "execute_result"
    }
   ],
   "source": [
    "test1 += 3\n",
    "test1"
   ]
  },
  {
   "cell_type": "code",
   "execution_count": 32,
   "id": "7285cc9f-f6b8-4d48-af46-d046a649af05",
   "metadata": {},
   "outputs": [],
   "source": [
    "test1 %= 3 # test1 = test1 % 3"
   ]
  },
  {
   "cell_type": "code",
   "execution_count": 33,
   "id": "20fc9d06-5ad8-48f7-9e88-a5b87edc86ef",
   "metadata": {},
   "outputs": [
    {
     "data": {
      "text/plain": [
       "2"
      ]
     },
     "execution_count": 33,
     "metadata": {},
     "output_type": "execute_result"
    }
   ],
   "source": [
    "test1"
   ]
  },
  {
   "cell_type": "code",
   "execution_count": 34,
   "id": "51fce1fb-1157-42c0-a00a-a28f31a8c586",
   "metadata": {},
   "outputs": [
    {
     "name": "stdout",
     "output_type": "stream",
     "text": [
      "5 5 5\n"
     ]
    }
   ],
   "source": [
    "a = b = c = 5\n",
    "print(a, b, c)"
   ]
  },
  {
   "cell_type": "code",
   "execution_count": 35,
   "id": "0f04b12d-4658-4b18-b026-eff9f74e48ce",
   "metadata": {},
   "outputs": [
    {
     "name": "stdout",
     "output_type": "stream",
     "text": [
      "3 4\n"
     ]
    }
   ],
   "source": [
    "a, b = 3, 4\n",
    "print(a, b)"
   ]
  },
  {
   "cell_type": "code",
   "execution_count": 37,
   "id": "e2df0e0b-6771-4a04-8e38-ac94ddb9d43a",
   "metadata": {},
   "outputs": [],
   "source": [
    "x, y, z = 3, 4, 5"
   ]
  },
  {
   "cell_type": "code",
   "execution_count": 40,
   "id": "55376243-3749-4eeb-99f6-2e1e8b73c394",
   "metadata": {},
   "outputs": [
    {
     "name": "stdout",
     "output_type": "stream",
     "text": [
      "4 3\n"
     ]
    }
   ],
   "source": [
    "a, b = 3, 4\n",
    "temp = a\n",
    "a = b\n",
    "b = temp\n",
    "\n",
    "print(a, b)"
   ]
  },
  {
   "cell_type": "code",
   "execution_count": 41,
   "id": "b497092d-4a07-4aea-aa07-9e969e57b7d6",
   "metadata": {},
   "outputs": [
    {
     "name": "stdout",
     "output_type": "stream",
     "text": [
      "3 4\n"
     ]
    }
   ],
   "source": [
    "a, b = 3, 4\n",
    "print(a, b)"
   ]
  },
  {
   "cell_type": "code",
   "execution_count": 42,
   "id": "e9a3ba99-b238-4b78-ba18-56f044858596",
   "metadata": {},
   "outputs": [
    {
     "name": "stdout",
     "output_type": "stream",
     "text": [
      "4 3\n"
     ]
    }
   ],
   "source": [
    "a, b = b, a\n",
    "print(a, b)"
   ]
  },
  {
   "cell_type": "code",
   "execution_count": 43,
   "id": "a20e4346-d72d-4eee-b908-98e26558a958",
   "metadata": {},
   "outputs": [
    {
     "data": {
      "text/plain": [
       "(3, 1)"
      ]
     },
     "execution_count": 43,
     "metadata": {},
     "output_type": "execute_result"
    }
   ],
   "source": [
    "divmod(10, 3)"
   ]
  },
  {
   "cell_type": "code",
   "execution_count": 44,
   "id": "35dccf60-57a1-488b-b4d9-9471f244089d",
   "metadata": {},
   "outputs": [
    {
     "name": "stdin",
     "output_type": "stream",
     "text": [
      "이름을 입력하세요: 박지성\n"
     ]
    },
    {
     "name": "stdout",
     "output_type": "stream",
     "text": [
      "hello 박지성 님!\n"
     ]
    }
   ],
   "source": [
    "name = input('이름을 입력하세요:')\n",
    "print('hello', name, '님!')"
   ]
  },
  {
   "cell_type": "code",
   "execution_count": 45,
   "id": "5fb92e26-5507-44f5-93de-a7fff6bd3344",
   "metadata": {},
   "outputs": [
    {
     "data": {
      "text/plain": [
       "str"
      ]
     },
     "execution_count": 45,
     "metadata": {},
     "output_type": "execute_result"
    }
   ],
   "source": [
    "type(name)"
   ]
  },
  {
   "cell_type": "code",
   "execution_count": null,
   "id": "86bed5f3-2f90-4a05-929a-0969c3e6b2be",
   "metadata": {},
   "outputs": [],
   "source": []
  }
 ],
 "metadata": {
  "kernelspec": {
   "display_name": "Python 3 (ipykernel)",
   "language": "python",
   "name": "python3"
  },
  "language_info": {
   "codemirror_mode": {
    "name": "ipython",
    "version": 3
   },
   "file_extension": ".py",
   "mimetype": "text/x-python",
   "name": "python",
   "nbconvert_exporter": "python",
   "pygments_lexer": "ipython3",
   "version": "3.9.7"
  }
 },
 "nbformat": 4,
 "nbformat_minor": 5
}
