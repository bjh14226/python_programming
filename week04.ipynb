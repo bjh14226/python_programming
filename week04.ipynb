{
 "cells": [
  {
   "cell_type": "code",
   "execution_count": 1,
   "id": "9cf8c1ca-09a5-487f-af3a-d1f48dd25f93",
   "metadata": {},
   "outputs": [
    {
     "name": "stdout",
     "output_type": "stream",
     "text": [
      "날씨가 좋군!\n"
     ]
    }
   ],
   "source": [
    "#118\n",
    "\n",
    "weather = '화창'\n",
    "if weather == '화창':\n",
    "    print('날씨가 좋군!')\n",
    "    "
   ]
  },
  {
   "cell_type": "code",
   "execution_count": 4,
   "id": "17949a22-e6ce-44fd-8083-86cae126a7d1",
   "metadata": {},
   "outputs": [
    {
     "name": "stdout",
     "output_type": "stream",
     "text": [
      "KF 마스크를 꼭 착용합시다\n"
     ]
    }
   ],
   "source": [
    "PM = 90\n",
    "\n",
    "if PM > 81:\n",
    "    print('KF 마스크를 꼭 착용합시다')"
   ]
  },
  {
   "cell_type": "code",
   "execution_count": 6,
   "id": "d86e74a1-45fc-4f83-a50d-975067b5a686",
   "metadata": {},
   "outputs": [
    {
     "name": "stdout",
     "output_type": "stream",
     "text": [
      "탑승 가능\n"
     ]
    }
   ],
   "source": [
    "height = 152\n",
    "\n",
    "if height >= 140: # if 140 <= height\n",
    "    print('탑승 가능')"
   ]
  },
  {
   "cell_type": "code",
   "execution_count": 9,
   "id": "50a70001-9b47-45d0-bb35-1045582eb331",
   "metadata": {},
   "outputs": [
    {
     "data": {
      "text/plain": [
       "'9'"
      ]
     },
     "execution_count": 9,
     "metadata": {},
     "output_type": "execute_result"
    }
   ],
   "source": [
    "'9:20'.split(':')[0]"
   ]
  },
  {
   "cell_type": "code",
   "execution_count": 8,
   "id": "7802502a-ccfa-4501-8fc3-baa7b6f9fe36",
   "metadata": {},
   "outputs": [
    {
     "name": "stdin",
     "output_type": "stream",
     "text": [
      "시간을 입력하세요 예: 09:30) 08:20\n"
     ]
    },
    {
     "name": "stdout",
     "output_type": "stream",
     "text": [
      "조조할인 영화입니다\n"
     ]
    }
   ],
   "source": [
    "input_time = input('시간을 입력하세요 예: 09:30)')\n",
    "\n",
    "#hour = int(input_time[:2])\n",
    "input_time.split(':')[0]\n",
    "\n",
    "if hour < 10:\n",
    "    print('조조할인 영화입니다')\n",
    "else:\n",
    "    print('일반 영화입니다')"
   ]
  },
  {
   "cell_type": "code",
   "execution_count": 13,
   "id": "f07843b2-d95b-4b6b-ba7f-9fa9a2eb9093",
   "metadata": {},
   "outputs": [
    {
     "name": "stdin",
     "output_type": "stream",
     "text": [
      "숫자를 입력하세요: 10\n"
     ]
    },
    {
     "name": "stdout",
     "output_type": "stream",
     "text": [
      "10은 짝수입니다\n"
     ]
    }
   ],
   "source": [
    "n = int(input('숫자를 입력하세요:'))\n",
    "\n",
    "if n % 2 == 0:\n",
    "    print(f'{n}은 짝수입니다')\n",
    "else:\n",
    "    print(f'{n}은 홀수입니다') #print('{}은 홀수입니다'.format(n))"
   ]
  },
  {
   "cell_type": "code",
   "execution_count": 15,
   "id": "8fd17b06-40d4-4871-8ef7-6854231d2e49",
   "metadata": {},
   "outputs": [
    {
     "name": "stdout",
     "output_type": "stream",
     "text": [
      "ㅠㅠ\n"
     ]
    }
   ],
   "source": [
    "point = 5\n",
    "\n",
    "if point >= 90:\n",
    "    print('A')\n",
    "elif point >= 80:\n",
    "    print('B')\n",
    "elif point >= 70:\n",
    "    print('C')\n",
    "else:\n",
    "    print('ㅠㅠ')"
   ]
  },
  {
   "cell_type": "code",
   "execution_count": 16,
   "id": "15a4861b-5020-49cd-8a97-e4d73cffd85e",
   "metadata": {},
   "outputs": [
    {
     "name": "stdin",
     "output_type": "stream",
     "text": [
      "원하는 음료는? 1. 커피 2. 주스: 1\n",
      "1. 아메리카노 2. 카페라떼 3. 에스프레소 3\n"
     ]
    },
    {
     "name": "stdout",
     "output_type": "stream",
     "text": [
      "에스프레소를 선택하셨습니다.\n"
     ]
    }
   ],
   "source": [
    "\n",
    "category = int(input('원하는 음료는? 1. 커피 2. 주스:'))\n",
    "\n",
    "if category == 1:\n",
    "    menu = int(input('1. 아메리카노 2. 카페라떼 3. 에스프레소'))\n",
    "    if menu == 1:\n",
    "        print('아메리카노를 선택하셨습니다.')\n",
    "    elif menu == 2:\n",
    "        print('카페라떼를 선택하셨습니다.')\n",
    "    elif menu == 3:\n",
    "        print('에스프레소를 선택하셨습니다.')\n",
    "    else:\n",
    "        print('잘못 선택하셨습니다.')"
   ]
  },
  {
   "cell_type": "code",
   "execution_count": 21,
   "id": "e11cc00a-f14f-45c8-bf2d-dae750ec7bdf",
   "metadata": {},
   "outputs": [
    {
     "name": "stdout",
     "output_type": "stream",
     "text": [
      "반복하고 싶어 0\n",
      "반복하고 싶어 1\n",
      "반복하고 싶어 2\n",
      "반복하고 싶어 3\n",
      "반복하고 싶어 4\n",
      "반복하고 싶어 5\n",
      "반복하고 싶어 6\n",
      "반복하고 싶어 7\n",
      "반복하고 싶어 8\n",
      "반복하고 싶어 9\n"
     ]
    }
   ],
   "source": [
    "for _ in range(10): # 0~9\n",
    "    print('반복하고 싶어', _)"
   ]
  },
  {
   "cell_type": "code",
   "execution_count": 22,
   "id": "c0c14b31-76ee-4abe-b47a-b895e4a41ca2",
   "metadata": {},
   "outputs": [
    {
     "name": "stdout",
     "output_type": "stream",
     "text": [
      "P\n",
      "y\n",
      "h\n",
      "t\n",
      "o\n",
      "n\n",
      "출력이 끝났습니다\n"
     ]
    }
   ],
   "source": [
    "for a in 'Pyhton':\n",
    "    print(a)\n",
    "else:\n",
    "    print('출력이 끝났습니다')"
   ]
  },
  {
   "cell_type": "code",
   "execution_count": 23,
   "id": "d6776474-bcea-44f7-9c94-8a41f60a8381",
   "metadata": {},
   "outputs": [
    {
     "name": "stdout",
     "output_type": "stream",
     "text": [
      "25\n"
     ]
    }
   ],
   "source": [
    "number_sum = 0\n",
    "for i in 3, 4, 5, 6, 7:\n",
    "    number_sum += i\n",
    "else:\n",
    "    print(number_sum)"
   ]
  },
  {
   "cell_type": "code",
   "execution_count": 24,
   "id": "3ef6af8a-a6e6-4547-803f-e00442d57ca9",
   "metadata": {},
   "outputs": [
    {
     "name": "stdin",
     "output_type": "stream",
     "text": [
      "주문하세요: 아메리카노, 카페라떼, 카푸치노: 아메리카노\n"
     ]
    },
    {
     "name": "stdout",
     "output_type": "stream",
     "text": [
      "아메리카노 주문!\n"
     ]
    },
    {
     "name": "stdin",
     "output_type": "stream",
     "text": [
      "주문하세요: 아메리카노, 카페라떼, 카푸치노: 카페라떼\n"
     ]
    },
    {
     "name": "stdout",
     "output_type": "stream",
     "text": [
      "카페라떼 주문\n"
     ]
    },
    {
     "name": "stdin",
     "output_type": "stream",
     "text": [
      "주문하세요: 아메리카노, 카페라떼, 카푸치노: 에스프레소\n"
     ]
    },
    {
     "name": "stdout",
     "output_type": "stream",
     "text": [
      "잘못된 주문입니다\n",
      "3잔의 주문이 완료되었습니다\n"
     ]
    }
   ],
   "source": [
    "#132\n",
    "for i in range(3):\n",
    "    coffee = input('주문하세요: 아메리카노, 카페라떼, 카푸치노:')\n",
    "    \n",
    "    if coffee == '아메리카노':\n",
    "        print(f'{coffee} 주문!')\n",
    "    elif coffee == '카페라떼':\n",
    "        print(f'{coffee} 주문')\n",
    "    elif coffee == '카푸치노':\n",
    "        print(f'{coffee} 주문')\n",
    "    else:\n",
    "        print('잘못된 주문입니다')\n",
    "else:\n",
    "    print('3잔의 주문이 완료되었습니다')"
   ]
  },
  {
   "cell_type": "code",
   "execution_count": 1,
   "id": "f7747c12-95b0-4b8c-802e-1b95d9d7ee34",
   "metadata": {},
   "outputs": [
    {
     "name": "stdout",
     "output_type": "stream",
     "text": [
      "반복하고 싶어\n",
      "반복하고 싶어\n",
      "반복하고 싶어\n",
      "반복하고 싶어\n",
      "반복하고 싶어\n",
      "반복하고 싶어\n",
      "반복하고 싶어\n",
      "반복하고 싶어\n",
      "반복하고 싶어\n",
      "반복하고 싶어\n"
     ]
    }
   ],
   "source": [
    "cnt = 0\n",
    "\n",
    "while cnt < 10:\n",
    "    print('반복하고 싶어')\n",
    "    cnt += 1"
   ]
  },
  {
   "cell_type": "code",
   "execution_count": 6,
   "id": "535c460c-437d-4eed-bb8f-a45c8006e881",
   "metadata": {},
   "outputs": [
    {
     "name": "stdout",
     "output_type": "stream",
     "text": [
      " 2 *  1 =  2   2 *  2 =  4   2 *  3 =  6   2 *  4 =  8   2 *  5 = 10   2 *  6 = 12   2 *  7 = 14   2 *  8 = 16   2 *  9 = 18  \n",
      " 3 *  1 =  3   3 *  2 =  6   3 *  3 =  9   3 *  4 = 12   3 *  5 = 15   3 *  6 = 18   3 *  7 = 21   3 *  8 = 24   3 *  9 = 27  \n",
      " 4 *  1 =  4   4 *  2 =  8   4 *  3 = 12   4 *  4 = 16   4 *  5 = 20   4 *  6 = 24   4 *  7 = 28   4 *  8 = 32   4 *  9 = 36  \n",
      " 5 *  1 =  5   5 *  2 = 10   5 *  3 = 15   5 *  4 = 20   5 *  5 = 25   5 *  6 = 30   5 *  7 = 35   5 *  8 = 40   5 *  9 = 45  \n",
      " 6 *  1 =  6   6 *  2 = 12   6 *  3 = 18   6 *  4 = 24   6 *  5 = 30   6 *  6 = 36   6 *  7 = 42   6 *  8 = 48   6 *  9 = 54  \n",
      " 7 *  1 =  7   7 *  2 = 14   7 *  3 = 21   7 *  4 = 28   7 *  5 = 35   7 *  6 = 42   7 *  7 = 49   7 *  8 = 56   7 *  9 = 63  \n",
      " 8 *  1 =  8   8 *  2 = 16   8 *  3 = 24   8 *  4 = 32   8 *  5 = 40   8 *  6 = 48   8 *  7 = 56   8 *  8 = 64   8 *  9 = 72  \n",
      " 9 *  1 =  9   9 *  2 = 18   9 *  3 = 27   9 *  4 = 36   9 *  5 = 45   9 *  6 = 54   9 *  7 = 63   9 *  8 = 72   9 *  9 = 81  \n"
     ]
    }
   ],
   "source": [
    "for i in range(2, 10):\n",
    "    for j in range(1, 10):\n",
    "        print(f'{i:2d} * {j:2d} = {i*j:2d} ', end = ' ')\n",
    "        \n",
    "    print()"
   ]
  },
  {
   "cell_type": "code",
   "execution_count": 18,
   "id": "482b8676-4fc2-4b51-b615-11ce23e69378",
   "metadata": {},
   "outputs": [
    {
     "name": "stdout",
     "output_type": "stream",
     "text": [
      "0\n",
      "1\n",
      "2\n",
      "3\n",
      "4\n",
      "5\n",
      "7\n",
      "8\n",
      "9\n",
      "여기는 continue일때는 출력이 됩니다!\n"
     ]
    }
   ],
   "source": [
    "for i in range(10):\n",
    "    if i == 6:\n",
    "        continue\n",
    "    print(i)\n",
    "    \n",
    "else:\n",
    "    print('여기는 continue일때는 출력이 됩니다!')"
   ]
  },
  {
   "cell_type": "code",
   "execution_count": null,
   "id": "88082243-bdbb-4c3b-9492-74c56fbb6de4",
   "metadata": {},
   "outputs": [],
   "source": []
  }
 ],
 "metadata": {
  "kernelspec": {
   "display_name": "Python 3 (ipykernel)",
   "language": "python",
   "name": "python3"
  },
  "language_info": {
   "codemirror_mode": {
    "name": "ipython",
    "version": 3
   },
   "file_extension": ".py",
   "mimetype": "text/x-python",
   "name": "python",
   "nbconvert_exporter": "python",
   "pygments_lexer": "ipython3",
   "version": "3.9.7"
  }
 },
 "nbformat": 4,
 "nbformat_minor": 5
}
