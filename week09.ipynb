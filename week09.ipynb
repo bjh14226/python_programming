{
 "cells": [
  {
   "cell_type": "code",
   "execution_count": 1,
   "id": "383eb06c-f1f6-4448-b3f8-b093b47331cf",
   "metadata": {},
   "outputs": [
    {
     "name": "stdout",
     "output_type": "stream",
     "text": [
      "this is the first function\n"
     ]
    }
   ],
   "source": [
    "#p252\n",
    "\n",
    "def my_func():\n",
    "    print('this is the first function')\n",
    "    \n",
    "my_func()"
   ]
  },
  {
   "cell_type": "code",
   "execution_count": 4,
   "id": "021e4338-a938-45ba-83fe-d7f56a0e4357",
   "metadata": {},
   "outputs": [
    {
     "name": "stdout",
     "output_type": "stream",
     "text": [
      "1\n",
      "\t 77\n",
      "<function helloint at 0x000002C913D0D160>\n",
      "3\n"
     ]
    }
   ],
   "source": [
    "def helloint():\n",
    "    print('\\t', 77)\n",
    "\n",
    "print(1)\n",
    "helloint()\n",
    "print(helloint)\n",
    "print(3)"
   ]
  },
  {
   "cell_type": "code",
   "execution_count": 9,
   "id": "722812a0-a900-43ae-9a58-7e5bf16eeb93",
   "metadata": {},
   "outputs": [
    {
     "name": "stdout",
     "output_type": "stream",
     "text": [
      "Help on built-in function print in module builtins:\n",
      "\n",
      "print(...)\n",
      "    print(value, ..., sep=' ', end='\\n', file=sys.stdout, flush=False)\n",
      "    \n",
      "    Prints the values to a stream, or to sys.stdout by default.\n",
      "    Optional keyword arguments:\n",
      "    file:  a file-like object (stream); defaults to the current sys.stdout.\n",
      "    sep:   string inserted between values, default a space.\n",
      "    end:   string appended after the last value, default a newline.\n",
      "    flush: whether to forcibly flush the stream.\n",
      "\n"
     ]
    }
   ],
   "source": [
    "help(print)"
   ]
  },
  {
   "cell_type": "code",
   "execution_count": 11,
   "id": "0d2b0f17-8ffe-44c6-82ba-c632b99c9e12",
   "metadata": {},
   "outputs": [
    {
     "name": "stdout",
     "output_type": "stream",
     "text": [
      "Hello Jisung Park!\n"
     ]
    }
   ],
   "source": [
    "def hello(name):\n",
    "    print(f'Hello {name}!')\n",
    "\n",
    "hello('Jisung Park')"
   ]
  },
  {
   "cell_type": "code",
   "execution_count": 12,
   "id": "89d7d0f7-94bf-4e8a-86e8-3abebda930a2",
   "metadata": {},
   "outputs": [
    {
     "name": "stdout",
     "output_type": "stream",
     "text": [
      "Hello Boom Cha!\n"
     ]
    }
   ],
   "source": [
    "new_name = 'Boom Cha'\n",
    "hello(new_name)"
   ]
  },
  {
   "cell_type": "code",
   "execution_count": 14,
   "id": "6b784cbc-05fa-4848-af42-a3796e025196",
   "metadata": {},
   "outputs": [
    {
     "name": "stdout",
     "output_type": "stream",
     "text": [
      "Hello 강남대학교!\n",
      "Hello 박지성!\n"
     ]
    }
   ],
   "source": [
    "def hello(name='강남대학교'):\n",
    "    print(f'Hello {name}!')\n",
    "\n",
    "hello()\n",
    "hello('박지성')"
   ]
  },
  {
   "cell_type": "code",
   "execution_count": 19,
   "id": "0aaeabd8-f661-4ea3-97eb-de5ba3075825",
   "metadata": {},
   "outputs": [
    {
     "name": "stdout",
     "output_type": "stream",
     "text": [
      "박지성 arrived\n",
      "박지성!\n"
     ]
    }
   ],
   "source": [
    "def hello(name):\n",
    "    print(f'{name} arrived')\n",
    "    return name + '!'\n",
    "\n",
    "result = hello('박지성')\n",
    "print(result)"
   ]
  },
  {
   "cell_type": "code",
   "execution_count": 23,
   "id": "71a384e5-0e26-4a59-a33f-5cb4f4d9656a",
   "metadata": {},
   "outputs": [
    {
     "name": "stdout",
     "output_type": "stream",
     "text": [
      "x is  4 \ty is  5\n",
      "9\n"
     ]
    }
   ],
   "source": [
    "def my_sum(x, y=0):\n",
    "    print('x is ', x, '\\ty is ', y)\n",
    "    return x+y\n",
    "\n",
    "print(my_sum(4, 5))"
   ]
  },
  {
   "cell_type": "code",
   "execution_count": 27,
   "id": "b75d1150-ca85-4a60-be42-5277ba2979b9",
   "metadata": {},
   "outputs": [
    {
     "name": "stdout",
     "output_type": "stream",
     "text": [
      "x is  3 \ty is  4\n",
      "(3, 4, 7)\n"
     ]
    }
   ],
   "source": [
    "def my_sum1(x, y=0):\n",
    "    print('x is ', x, '\\ty is ', y)\n",
    "    return x, y, x+y\n",
    "a = my_sum1(3,4)\n",
    "print(a)"
   ]
  },
  {
   "cell_type": "code",
   "execution_count": 38,
   "id": "df2f8fa9-c882-4f67-9302-cd57a2ce440c",
   "metadata": {},
   "outputs": [
    {
     "name": "stdout",
     "output_type": "stream",
     "text": [
      "15\n",
      "the value of i is 16\n",
      "16\n"
     ]
    }
   ],
   "source": [
    "i = 15\n",
    "\n",
    "def addone():\n",
    "    #i = 30\n",
    "    global i\n",
    "    i += 1\n",
    "    print(f'the value of i is {i}')\n",
    "\n",
    "print(i)\n",
    "addone()\n",
    "print(i)"
   ]
  },
  {
   "cell_type": "code",
   "execution_count": 42,
   "id": "235f0a93-573b-4242-bb34-6ad212070085",
   "metadata": {},
   "outputs": [
    {
     "name": "stdout",
     "output_type": "stream",
     "text": [
      "18\n",
      "the value of i is 19\n"
     ]
    },
    {
     "ename": "NameError",
     "evalue": "name 'j' is not defined",
     "output_type": "error",
     "traceback": [
      "\u001b[1;31m---------------------------------------------------------------------------\u001b[0m",
      "\u001b[1;31mNameError\u001b[0m                                 Traceback (most recent call last)",
      "\u001b[1;32m~\\AppData\\Local\\Temp/ipykernel_7652/2681926388.py\u001b[0m in \u001b[0;36m<module>\u001b[1;34m\u001b[0m\n\u001b[0;32m      8\u001b[0m \u001b[0mprint\u001b[0m\u001b[1;33m(\u001b[0m\u001b[0mi\u001b[0m\u001b[1;33m)\u001b[0m\u001b[1;33m\u001b[0m\u001b[1;33m\u001b[0m\u001b[0m\n\u001b[0;32m      9\u001b[0m \u001b[0maddone\u001b[0m\u001b[1;33m(\u001b[0m\u001b[1;33m)\u001b[0m\u001b[1;33m\u001b[0m\u001b[1;33m\u001b[0m\u001b[0m\n\u001b[1;32m---> 10\u001b[1;33m \u001b[0mprint\u001b[0m\u001b[1;33m(\u001b[0m\u001b[0mj\u001b[0m\u001b[1;33m)\u001b[0m\u001b[1;33m\u001b[0m\u001b[1;33m\u001b[0m\u001b[0m\n\u001b[0m",
      "\u001b[1;31mNameError\u001b[0m: name 'j' is not defined"
     ]
    }
   ],
   "source": [
    "def addone1():\n",
    "    #i = 30\n",
    "    global i\n",
    "    j = 20\n",
    "    i += 1\n",
    "    print(f'the value of i is {i}')\n",
    "\n",
    "print(i)\n",
    "addone()\n",
    "print(j)"
   ]
  },
  {
   "cell_type": "code",
   "execution_count": 43,
   "id": "e3ace1c4-f407-4c90-9ab0-bb4ba2b7f843",
   "metadata": {},
   "outputs": [
    {
     "name": "stdout",
     "output_type": "stream",
     "text": [
      "2\n"
     ]
    }
   ],
   "source": [
    "def mysubstract(pre, post):\n",
    "    return pre - post\n",
    "\n",
    "print(mysubstract(5, 3))"
   ]
  },
  {
   "cell_type": "code",
   "execution_count": 44,
   "id": "02c8e588-f6e8-4775-a7bc-32b8ac451ec6",
   "metadata": {},
   "outputs": [
    {
     "name": "stdout",
     "output_type": "stream",
     "text": [
      "-2\n"
     ]
    }
   ],
   "source": [
    "print(mysubstract(post = 5, pre = 3))"
   ]
  },
  {
   "cell_type": "code",
   "execution_count": 46,
   "id": "002c03ea-d8f9-416a-9a84-afe824720a68",
   "metadata": {},
   "outputs": [
    {
     "ename": "SyntaxError",
     "evalue": "positional argument follows keyword argument (Temp/ipykernel_7652/2661913533.py, line 1)",
     "output_type": "error",
     "traceback": [
      "\u001b[1;36m  File \u001b[1;32m\"C:\\Users\\bjh14\\AppData\\Local\\Temp/ipykernel_7652/2661913533.py\"\u001b[1;36m, line \u001b[1;32m1\u001b[0m\n\u001b[1;33m    print(mysubstract(post = 5, 3))\u001b[0m\n\u001b[1;37m                                 ^\u001b[0m\n\u001b[1;31mSyntaxError\u001b[0m\u001b[1;31m:\u001b[0m positional argument follows keyword argument\n"
     ]
    }
   ],
   "source": [
    "print(mysubstract(post = 5, 3))"
   ]
  },
  {
   "cell_type": "code",
   "execution_count": 49,
   "id": "88b55eb4-faea-426b-8ce8-05416045207a",
   "metadata": {},
   "outputs": [
    {
     "name": "stdout",
     "output_type": "stream",
     "text": [
      "박지성\n",
      "이영표\n",
      "차두리\n"
     ]
    }
   ],
   "source": [
    "def hello(*name):\n",
    "    for i in name:\n",
    "        print(i)\n",
    "\n",
    "hello(*['박지성', '이영표', '차두리'])"
   ]
  },
  {
   "cell_type": "code",
   "execution_count": 59,
   "id": "6e52d82e-153d-4f51-9398-4ee07fcf8de2",
   "metadata": {},
   "outputs": [
    {
     "name": "stdout",
     "output_type": "stream",
     "text": [
      "aaa: 1 bbb: 2 ccc: 3 \n",
      "aaa: 1 bbb: 2 ccc: 3 \n"
     ]
    }
   ],
   "source": [
    "def mykeyprint(**kwargs):\n",
    "    for k in kwargs:\n",
    "        print(f'{k}: {kwargs[k]}', end=' ')\n",
    "    print()\n",
    "    \n",
    "mykeyprint(aaa=1, bbb=2, ccc=3)\n",
    "mykeyprint(**{'aaa': 1, 'bbb': 2, 'ccc': 3})"
   ]
  },
  {
   "cell_type": "code",
   "execution_count": 61,
   "id": "57c7f190-8a32-426a-9aaa-bb33bd341b78",
   "metadata": {},
   "outputs": [
    {
     "data": {
      "text/plain": [
       "8500"
      ]
     },
     "execution_count": 61,
     "metadata": {},
     "output_type": "execute_result"
    }
   ],
   "source": [
    "def sumvalue(value, **kwargs):\n",
    "    a = value\n",
    "    for k in kwargs:\n",
    "        a += kwargs[k]\n",
    "    \n",
    "    return a\n",
    "\n",
    "coffeeprice = {'에스프레소': 2000, '아메리카노': 2500, '카페라떼': 3000}\n",
    "\n",
    "sumvalue(1000, **coffeeprice)"
   ]
  },
  {
   "cell_type": "code",
   "execution_count": 63,
   "id": "a42edc4f-75e9-4b6f-8334-69d209ebe5e6",
   "metadata": {},
   "outputs": [
    {
     "data": {
      "text/plain": [
       "8500"
      ]
     },
     "execution_count": 63,
     "metadata": {},
     "output_type": "execute_result"
    }
   ],
   "source": [
    "sumvalue(**coffeeprice, value = 1000)"
   ]
  },
  {
   "cell_type": "code",
   "execution_count": 65,
   "id": "47211f7b-5b25-4e62-9910-adb711aaa6b4",
   "metadata": {},
   "outputs": [
    {
     "data": {
      "text/plain": [
       "6"
      ]
     },
     "execution_count": 65,
     "metadata": {},
     "output_type": "execute_result"
    }
   ],
   "source": [
    "(lambda x: x+1)(5)"
   ]
  },
  {
   "cell_type": "code",
   "execution_count": 66,
   "id": "62394fe6-f21e-4163-b694-c6393aaad9e6",
   "metadata": {},
   "outputs": [
    {
     "data": {
      "text/plain": [
       "9"
      ]
     },
     "execution_count": 66,
     "metadata": {},
     "output_type": "execute_result"
    }
   ],
   "source": [
    "(lambda x, y: x+y)(4, 5)"
   ]
  },
  {
   "cell_type": "code",
   "execution_count": 67,
   "id": "200bf867-36d1-4546-b3ab-f404cb7135fb",
   "metadata": {},
   "outputs": [
    {
     "data": {
      "text/plain": [
       "9"
      ]
     },
     "execution_count": 67,
     "metadata": {},
     "output_type": "execute_result"
    }
   ],
   "source": [
    "mysum = lambda x, y: x+y\n",
    "mysum(4,5)"
   ]
  },
  {
   "cell_type": "code",
   "execution_count": 71,
   "id": "69acb662-dbdb-4fd8-86e5-bd48e695ee9f",
   "metadata": {},
   "outputs": [
    {
     "data": {
      "text/plain": [
       "[50, 40, 35, 30, 20, 12, 10]"
      ]
     },
     "execution_count": 71,
     "metadata": {},
     "output_type": "execute_result"
    }
   ],
   "source": [
    "mylist = [10, 20, 30, 40, 50, 12, 35]\n",
    "\n",
    "sorted(mylist, reverse=True)"
   ]
  },
  {
   "cell_type": "code",
   "execution_count": 72,
   "id": "72f8b0ef-bf29-4f0b-9e6d-cfca9d188828",
   "metadata": {},
   "outputs": [
    {
     "data": {
      "text/plain": [
       "[10, 20, 30, 40, 50, 12, 35]"
      ]
     },
     "execution_count": 72,
     "metadata": {},
     "output_type": "execute_result"
    }
   ],
   "source": [
    "mylist"
   ]
  },
  {
   "cell_type": "code",
   "execution_count": 73,
   "id": "4eac51bd-fb68-4de4-8b35-15e6db78a2e5",
   "metadata": {},
   "outputs": [],
   "source": [
    "mylist1 = sorted(mylist, reverse = True)"
   ]
  },
  {
   "cell_type": "code",
   "execution_count": 74,
   "id": "5714c7d5-f9ab-46cc-b6b9-8617fa5bec0e",
   "metadata": {},
   "outputs": [
    {
     "data": {
      "text/plain": [
       "[50, 40, 35, 30, 20, 12, 10]"
      ]
     },
     "execution_count": 74,
     "metadata": {},
     "output_type": "execute_result"
    }
   ],
   "source": [
    "mylist1"
   ]
  },
  {
   "cell_type": "code",
   "execution_count": 81,
   "id": "f391fddf-0446-4f42-b1dc-767e10757ec7",
   "metadata": {},
   "outputs": [
    {
     "data": {
      "text/plain": [
       "[('이영표', 9), ('손흥민', 6), ('박지성', 5), ('차범근', 2)]"
      ]
     },
     "execution_count": 81,
     "metadata": {},
     "output_type": "execute_result"
    }
   ],
   "source": [
    "players = [('박지성', 5), ('차범근', 2), ('손흥민', 6), ('이영표', 9)]\n",
    "\n",
    "sorted(players, key = lambda x:x[1], reverse=True)"
   ]
  },
  {
   "cell_type": "code",
   "execution_count": 87,
   "id": "4002ecb3-8081-42cb-96f4-0cab96906a69",
   "metadata": {},
   "outputs": [
    {
     "data": {
      "text/plain": [
       "[5, 2, 6, 12, 30, 48, 63]"
      ]
     },
     "execution_count": 87,
     "metadata": {},
     "output_type": "execute_result"
    }
   ],
   "source": [
    "mylist = [5, 1, 2, 3, 6, 8, 9]\n",
    "mylist1 = [1, 2, 3, 4, 5, 6, 7]\n",
    "list(map(lambda x, y: x * y, mylist, mylist1))"
   ]
  },
  {
   "cell_type": "code",
   "execution_count": null,
   "id": "79898725-0045-4fab-a0e7-fc41517d8331",
   "metadata": {},
   "outputs": [],
   "source": []
  }
 ],
 "metadata": {
  "kernelspec": {
   "display_name": "Python 3 (ipykernel)",
   "language": "python",
   "name": "python3"
  },
  "language_info": {
   "codemirror_mode": {
    "name": "ipython",
    "version": 3
   },
   "file_extension": ".py",
   "mimetype": "text/x-python",
   "name": "python",
   "nbconvert_exporter": "python",
   "pygments_lexer": "ipython3",
   "version": "3.9.7"
  }
 },
 "nbformat": 4,
 "nbformat_minor": 5
}
