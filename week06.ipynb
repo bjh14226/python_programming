{
 "cells": [
  {
   "cell_type": "code",
   "execution_count": 2,
   "id": "234c67e3-15bb-4615-8135-bd02341489ce",
   "metadata": {},
   "outputs": [
    {
     "name": "stdout",
     "output_type": "stream",
     "text": [
      "{'아메리카노': 3000, '카페라떼': 3500, '마키아또': 4500}\n",
      "3000\n"
     ]
    }
   ],
   "source": [
    "#p208\n",
    "\n",
    "coffee_price = {'아메리카노':3000, '카페라떼':3500, '마키아또':4500}\n",
    "\n",
    "print(coffee_price)\n",
    "print(coffee_price['아메리카노'])"
   ]
  },
  {
   "cell_type": "code",
   "execution_count": 3,
   "id": "457daf18-2393-42f1-b997-92efb93d9929",
   "metadata": {},
   "outputs": [
    {
     "name": "stdout",
     "output_type": "stream",
     "text": [
      "{}\n",
      "{'테스트': 'test'}\n"
     ]
    }
   ],
   "source": [
    "test_dic = {}\n",
    "test_dic1 = dict()\n",
    "\n",
    "print(test_dic1)\n",
    "\n",
    "test_dic['테스트'] = 'test'\n",
    "print(test_dic)\n"
   ]
  },
  {
   "cell_type": "code",
   "execution_count": 4,
   "id": "c6732031-b326-4553-881c-2e0a6e1ce58f",
   "metadata": {},
   "outputs": [
    {
     "name": "stdout",
     "output_type": "stream",
     "text": [
      "{'테스트': 'test', 'apple': '사과', 'Worldcup': ('16강', '진출하면 좋겠다')}\n"
     ]
    }
   ],
   "source": [
    "test_dic['apple'] = '사과'\n",
    "test_dic['Worldcup'] = ('16강', '진출하면 좋겠다')\n",
    "print(test_dic)"
   ]
  },
  {
   "cell_type": "code",
   "execution_count": 5,
   "id": "653b7edb-3495-4372-8b37-291e663a4c53",
   "metadata": {},
   "outputs": [
    {
     "data": {
      "text/plain": [
       "{'월': 'Monday', '화': 'Tuesday'}"
      ]
     },
     "execution_count": 5,
     "metadata": {},
     "output_type": "execute_result"
    }
   ],
   "source": [
    "day = dict([['월', 'Monday'], ['화', 'Tuesday']])\n",
    "day"
   ]
  },
  {
   "cell_type": "code",
   "execution_count": 6,
   "id": "060d9786-ccce-46f0-831c-737c3fb30a10",
   "metadata": {},
   "outputs": [
    {
     "data": {
      "text/plain": [
       "{'월': 'Monday', '화': 'Tuesday', '수': 'Wednesday'}"
      ]
     },
     "execution_count": 6,
     "metadata": {},
     "output_type": "execute_result"
    }
   ],
   "source": [
    "day = dict(월='Monday', 화='Tuesday', 수='Wednesday')\n",
    "day"
   ]
  },
  {
   "cell_type": "code",
   "execution_count": 8,
   "id": "1634a3b6-5d50-4f9b-84d9-7db32e89dcb8",
   "metadata": {},
   "outputs": [
    {
     "name": "stdout",
     "output_type": "stream",
     "text": [
      "원주율 영\n"
     ]
    }
   ],
   "source": [
    "real = {}\n",
    "real[3.14] = '원주율'\n",
    "real[0] = '영'\n",
    "\n",
    "print(real[3.14], real[0])"
   ]
  },
  {
   "cell_type": "code",
   "execution_count": 9,
   "id": "1f2b8286-0246-404f-b5f2-561de83d6a16",
   "metadata": {},
   "outputs": [
    {
     "name": "stdout",
     "output_type": "stream",
     "text": [
      "{1: 'Jan', 2: 'Feb', 3: 'Mar', 4: 'Apr'}\n"
     ]
    }
   ],
   "source": [
    "month_dic = {1:'Jan', 2:'Feb', 3:'Mar'}\n",
    "month_dic[4] = 'Apr'\n",
    "\n",
    "print(month_dic)"
   ]
  },
  {
   "cell_type": "code",
   "execution_count": 11,
   "id": "aa62c378-6a46-4503-acfb-4bb4b71bf9c9",
   "metadata": {},
   "outputs": [
    {
     "name": "stdout",
     "output_type": "stream",
     "text": [
      "1 Jan\n",
      "2 Feb\n",
      "3 Mar\n",
      "4 Apr\n"
     ]
    }
   ],
   "source": [
    "for i in month_dic:\n",
    "    print(i, month_dic[i])"
   ]
  },
  {
   "cell_type": "code",
   "execution_count": 12,
   "id": "623b36d6-877b-40e8-989b-31e73e6c0447",
   "metadata": {},
   "outputs": [
    {
     "name": "stdout",
     "output_type": "stream",
     "text": [
      "dict_keys([1, 2, 3, 4])\n",
      "dict_values(['Jan', 'Feb', 'Mar', 'Apr'])\n",
      "dict_items([(1, 'Jan'), (2, 'Feb'), (3, 'Mar'), (4, 'Apr')])\n"
     ]
    }
   ],
   "source": [
    "print(month_dic.keys()) #key 출력\n",
    "print(month_dic.values()) #value 출력\n",
    "print(month_dic.items()) #k-v 출력"
   ]
  },
  {
   "cell_type": "code",
   "execution_count": 16,
   "id": "5e2c1364-9703-4ac4-975c-765cc50f16d2",
   "metadata": {},
   "outputs": [
    {
     "data": {
      "text/plain": [
       "1"
      ]
     },
     "execution_count": 16,
     "metadata": {},
     "output_type": "execute_result"
    }
   ],
   "source": [
    "# [i for i in range(10) if i%3==0]\n",
    "new_month_dic = {v:k for k, v in month_dic.items()}\n",
    "new_month_dic['Jan']"
   ]
  },
  {
   "cell_type": "code",
   "execution_count": 18,
   "id": "09366811-bd9f-4bc1-9c22-b26b99911f4c",
   "metadata": {},
   "outputs": [
    {
     "name": "stdout",
     "output_type": "stream",
     "text": [
      "key is 1, and value is Jan\n",
      "key is 2, and value is Feb\n",
      "key is 3, and value is Mar\n",
      "key is 4, and value is Apr\n"
     ]
    }
   ],
   "source": [
    "for k, v in month_dic.items():\n",
    "    print(f'key is {k}, and value is {v}')"
   ]
  },
  {
   "cell_type": "code",
   "execution_count": 20,
   "id": "746a58fd-70ce-450c-974c-8c597045f2cc",
   "metadata": {},
   "outputs": [
    {
     "data": {
      "text/plain": [
       "'no dic key was found'"
      ]
     },
     "execution_count": 20,
     "metadata": {},
     "output_type": "execute_result"
    }
   ],
   "source": [
    "#p218\n",
    "new_month_dic.get('May', 'no dic key was found')"
   ]
  },
  {
   "cell_type": "code",
   "execution_count": 21,
   "id": "4657c39c-afb2-4562-a66c-7177dbd9be0c",
   "metadata": {},
   "outputs": [
    {
     "data": {
      "text/plain": [
       "2"
      ]
     },
     "execution_count": 21,
     "metadata": {},
     "output_type": "execute_result"
    }
   ],
   "source": [
    "new_month_dic.pop('Feb')"
   ]
  },
  {
   "cell_type": "code",
   "execution_count": 22,
   "id": "b6e859dd-a5e9-4341-bb6d-78251665f165",
   "metadata": {},
   "outputs": [
    {
     "data": {
      "text/plain": [
       "{'Jan': 1, 'Mar': 3, 'Apr': 4}"
      ]
     },
     "execution_count": 22,
     "metadata": {},
     "output_type": "execute_result"
    }
   ],
   "source": [
    "new_month_dic"
   ]
  },
  {
   "cell_type": "code",
   "execution_count": 23,
   "id": "7a47a803-b1ae-4d4d-ba7d-cd1dc7bbb92f",
   "metadata": {},
   "outputs": [
    {
     "ename": "KeyError",
     "evalue": "'Feb'",
     "output_type": "error",
     "traceback": [
      "\u001b[1;31m---------------------------------------------------------------------------\u001b[0m",
      "\u001b[1;31mKeyError\u001b[0m                                  Traceback (most recent call last)",
      "\u001b[1;32m~\\AppData\\Local\\Temp/ipykernel_9416/2486118616.py\u001b[0m in \u001b[0;36m<module>\u001b[1;34m\u001b[0m\n\u001b[1;32m----> 1\u001b[1;33m \u001b[0mnew_month_dic\u001b[0m\u001b[1;33m.\u001b[0m\u001b[0mpop\u001b[0m\u001b[1;33m(\u001b[0m\u001b[1;34m'Feb'\u001b[0m\u001b[1;33m)\u001b[0m\u001b[1;33m\u001b[0m\u001b[1;33m\u001b[0m\u001b[0m\n\u001b[0m",
      "\u001b[1;31mKeyError\u001b[0m: 'Feb'"
     ]
    }
   ],
   "source": [
    "new_month_dic.pop('Feb')"
   ]
  },
  {
   "cell_type": "code",
   "execution_count": 24,
   "id": "5382b23d-8246-4e64-b2ba-992aef4f5239",
   "metadata": {},
   "outputs": [
    {
     "data": {
      "text/plain": [
       "('Apr', 4)"
      ]
     },
     "execution_count": 24,
     "metadata": {},
     "output_type": "execute_result"
    }
   ],
   "source": [
    "new_month_dic.popitem()"
   ]
  },
  {
   "cell_type": "code",
   "execution_count": 25,
   "id": "b08c9655-956e-4a6b-a0ce-fc843e878167",
   "metadata": {},
   "outputs": [
    {
     "data": {
      "text/plain": [
       "{'Jan': 1, 'Mar': 3}"
      ]
     },
     "execution_count": 25,
     "metadata": {},
     "output_type": "execute_result"
    }
   ],
   "source": [
    "new_month_dic"
   ]
  },
  {
   "cell_type": "code",
   "execution_count": 26,
   "id": "a1d30da6-5a66-4334-b18d-f2ddd7728fda",
   "metadata": {},
   "outputs": [],
   "source": [
    "del new_month_dic['Jan']"
   ]
  },
  {
   "cell_type": "code",
   "execution_count": 27,
   "id": "43532f79-923e-4377-91a1-c26bfe01846b",
   "metadata": {},
   "outputs": [
    {
     "data": {
      "text/plain": [
       "{'Mar': 3}"
      ]
     },
     "execution_count": 27,
     "metadata": {},
     "output_type": "execute_result"
    }
   ],
   "source": [
    "new_month_dic"
   ]
  },
  {
   "cell_type": "code",
   "execution_count": 28,
   "id": "052902f5-5652-4c88-8d3d-2cc7268ee022",
   "metadata": {},
   "outputs": [],
   "source": [
    "new_month_dic.clear()"
   ]
  },
  {
   "cell_type": "code",
   "execution_count": 29,
   "id": "3aea1248-38af-4ed5-a36e-00110acac83f",
   "metadata": {},
   "outputs": [
    {
     "data": {
      "text/plain": [
       "{}"
      ]
     },
     "execution_count": 29,
     "metadata": {},
     "output_type": "execute_result"
    }
   ],
   "source": [
    "new_month_dic"
   ]
  },
  {
   "cell_type": "code",
   "execution_count": 30,
   "id": "9f2d2a12-dae3-4963-a239-d2f15dfe7621",
   "metadata": {},
   "outputs": [],
   "source": [
    "del new_month_dic"
   ]
  },
  {
   "cell_type": "code",
   "execution_count": 31,
   "id": "fafc3177-ae68-44b0-b039-9194b95bc03c",
   "metadata": {},
   "outputs": [
    {
     "ename": "NameError",
     "evalue": "name 'new_month_dic' is not defined",
     "output_type": "error",
     "traceback": [
      "\u001b[1;31m---------------------------------------------------------------------------\u001b[0m",
      "\u001b[1;31mNameError\u001b[0m                                 Traceback (most recent call last)",
      "\u001b[1;32m~\\AppData\\Local\\Temp/ipykernel_9416/3834650863.py\u001b[0m in \u001b[0;36m<module>\u001b[1;34m\u001b[0m\n\u001b[1;32m----> 1\u001b[1;33m \u001b[0mnew_month_dic\u001b[0m\u001b[1;33m\u001b[0m\u001b[1;33m\u001b[0m\u001b[0m\n\u001b[0m",
      "\u001b[1;31mNameError\u001b[0m: name 'new_month_dic' is not defined"
     ]
    }
   ],
   "source": [
    "new_month_dic"
   ]
  },
  {
   "cell_type": "code",
   "execution_count": 32,
   "id": "97009582-4607-4dd9-940f-55bf56ffe041",
   "metadata": {},
   "outputs": [
    {
     "data": {
      "text/plain": [
       "{1: 'Jan', 2: 'Feb', 3: 'Mar', 4: 'Apr'}"
      ]
     },
     "execution_count": 32,
     "metadata": {},
     "output_type": "execute_result"
    }
   ],
   "source": [
    "month_dic"
   ]
  },
  {
   "cell_type": "code",
   "execution_count": 34,
   "id": "ecaef2dd-ca6b-4457-b0d9-fecb00081ddc",
   "metadata": {},
   "outputs": [
    {
     "name": "stdout",
     "output_type": "stream",
     "text": [
      "{1: 'Jan', 2: 'Feb', 3: 'Mar', 4: 'Apr', 5: 'May', 6: 'Jun'}\n"
     ]
    }
   ],
   "source": [
    "month_dic1 = {5:'May', 6:'Jun'}\n",
    "month_dic.update(month_dic1)\n",
    "print(month_dic)"
   ]
  },
  {
   "cell_type": "code",
   "execution_count": 36,
   "id": "c2ec0423-3616-4ba1-8147-4c1733edfeb5",
   "metadata": {},
   "outputs": [
    {
     "data": {
      "text/plain": [
       "True"
      ]
     },
     "execution_count": 36,
     "metadata": {},
     "output_type": "execute_result"
    }
   ],
   "source": [
    "7 not in month_dic"
   ]
  },
  {
   "cell_type": "code",
   "execution_count": 38,
   "id": "d48c6a75-2bba-4874-9f13-05260e0fedc7",
   "metadata": {},
   "outputs": [],
   "source": [
    "#p223\n",
    "\n",
    "s1 = {1, 2, 3, 4, 5}\n",
    "s2 = {1, 1, 1, 2, 2}"
   ]
  },
  {
   "cell_type": "code",
   "execution_count": 39,
   "id": "69ca6db3-147e-43aa-8f60-40622a204317",
   "metadata": {},
   "outputs": [
    {
     "name": "stdout",
     "output_type": "stream",
     "text": [
      "{1, 2}\n"
     ]
    }
   ],
   "source": [
    "print(s2)"
   ]
  },
  {
   "cell_type": "code",
   "execution_count": 40,
   "id": "8b1834f4-d7e7-484c-b6df-4d89156d4936",
   "metadata": {},
   "outputs": [
    {
     "data": {
      "text/plain": [
       "dict"
      ]
     },
     "execution_count": 40,
     "metadata": {},
     "output_type": "execute_result"
    }
   ],
   "source": [
    "type({})"
   ]
  },
  {
   "cell_type": "code",
   "execution_count": 43,
   "id": "0cb3c435-820f-495d-b8e3-022cef746076",
   "metadata": {},
   "outputs": [
    {
     "data": {
      "text/plain": [
       "{1, 2, 3}"
      ]
     },
     "execution_count": 43,
     "metadata": {},
     "output_type": "execute_result"
    }
   ],
   "source": [
    "set([1, 2, 3])"
   ]
  },
  {
   "cell_type": "code",
   "execution_count": 45,
   "id": "46236727-2a9e-4367-98ef-d76a88882259",
   "metadata": {},
   "outputs": [
    {
     "ename": "TypeError",
     "evalue": "unhashable type: 'list'",
     "output_type": "error",
     "traceback": [
      "\u001b[1;31m---------------------------------------------------------------------------\u001b[0m",
      "\u001b[1;31mTypeError\u001b[0m                                 Traceback (most recent call last)",
      "\u001b[1;32m~\\AppData\\Local\\Temp/ipykernel_9416/224012308.py\u001b[0m in \u001b[0;36m<module>\u001b[1;34m\u001b[0m\n\u001b[1;32m----> 1\u001b[1;33m \u001b[0mset\u001b[0m\u001b[1;33m(\u001b[0m\u001b[1;33m(\u001b[0m\u001b[1;33m[\u001b[0m\u001b[1;36m1\u001b[0m\u001b[1;33m,\u001b[0m \u001b[1;36m2\u001b[0m\u001b[1;33m,\u001b[0m \u001b[1;36m3\u001b[0m\u001b[1;33m]\u001b[0m\u001b[1;33m,\u001b[0m \u001b[1;36m2\u001b[0m\u001b[1;33m,\u001b[0m \u001b[1;36m3\u001b[0m\u001b[1;33m)\u001b[0m\u001b[1;33m)\u001b[0m\u001b[1;33m\u001b[0m\u001b[1;33m\u001b[0m\u001b[0m\n\u001b[0m",
      "\u001b[1;31mTypeError\u001b[0m: unhashable type: 'list'"
     ]
    }
   ],
   "source": [
    "set(([1, 2, 3], 2, 3))"
   ]
  },
  {
   "cell_type": "code",
   "execution_count": 47,
   "id": "f41141ef-5c6f-41d7-857a-ec099e7e1f96",
   "metadata": {},
   "outputs": [],
   "source": [
    "odd = {i for i in range(10) if i%2==1}"
   ]
  },
  {
   "cell_type": "code",
   "execution_count": 48,
   "id": "86bf6cd1-6fbd-409c-b179-771975c8ad05",
   "metadata": {},
   "outputs": [
    {
     "data": {
      "text/plain": [
       "{1, 3, 5, 7, 9}"
      ]
     },
     "execution_count": 48,
     "metadata": {},
     "output_type": "execute_result"
    }
   ],
   "source": [
    "odd"
   ]
  },
  {
   "cell_type": "code",
   "execution_count": 50,
   "id": "0a7cc13e-4c12-4794-ac28-d744b335ddbe",
   "metadata": {},
   "outputs": [
    {
     "data": {
      "text/plain": [
       "{1, 3, 5, 7, 9, 11}"
      ]
     },
     "execution_count": 50,
     "metadata": {},
     "output_type": "execute_result"
    }
   ],
   "source": [
    "odd.add(11)\n",
    "odd"
   ]
  },
  {
   "cell_type": "code",
   "execution_count": 51,
   "id": "72abdf5d-6acc-474f-b000-c5badd100e1b",
   "metadata": {},
   "outputs": [
    {
     "data": {
      "text/plain": [
       "{3, 5, 7, 9, 11}"
      ]
     },
     "execution_count": 51,
     "metadata": {},
     "output_type": "execute_result"
    }
   ],
   "source": [
    "odd.remove(1)\n",
    "odd"
   ]
  },
  {
   "cell_type": "code",
   "execution_count": 52,
   "id": "80557ec8-bc2a-4ed1-9a67-665385b670ae",
   "metadata": {},
   "outputs": [],
   "source": [
    "odd.discard(1)"
   ]
  },
  {
   "cell_type": "code",
   "execution_count": 53,
   "id": "15276063-c8b4-495c-9e35-c8203387e143",
   "metadata": {},
   "outputs": [
    {
     "data": {
      "text/plain": [
       "3"
      ]
     },
     "execution_count": 53,
     "metadata": {},
     "output_type": "execute_result"
    }
   ],
   "source": [
    "odd.pop()"
   ]
  },
  {
   "cell_type": "code",
   "execution_count": 54,
   "id": "e6eb4eb3-d13b-41b2-88b7-c4527b4cda79",
   "metadata": {},
   "outputs": [
    {
     "data": {
      "text/plain": [
       "{5, 7, 9, 11}"
      ]
     },
     "execution_count": 54,
     "metadata": {},
     "output_type": "execute_result"
    }
   ],
   "source": [
    "odd"
   ]
  },
  {
   "cell_type": "code",
   "execution_count": 59,
   "id": "8b3f4793-8af4-477e-b7a9-d46f3fcea5c6",
   "metadata": {},
   "outputs": [
    {
     "data": {
      "text/plain": [
       "{3, 4, 6, 8, 9, 10, 12}"
      ]
     },
     "execution_count": 59,
     "metadata": {},
     "output_type": "execute_result"
    }
   ],
   "source": [
    "a = {4, 6, 8, 10, 12}\n",
    "b = {3, 6, 9, 12}\n",
    "\n",
    "a.union(b)"
   ]
  },
  {
   "cell_type": "code",
   "execution_count": 60,
   "id": "74a1cf63-adc5-44f8-8dc0-e18c48b4afa7",
   "metadata": {},
   "outputs": [
    {
     "data": {
      "text/plain": [
       "{6, 12}"
      ]
     },
     "execution_count": 60,
     "metadata": {},
     "output_type": "execute_result"
    }
   ],
   "source": [
    "a.intersection(b)"
   ]
  },
  {
   "cell_type": "code",
   "execution_count": 61,
   "id": "dccb58aa-5d1e-44fe-8d55-bd1a5f6c9291",
   "metadata": {},
   "outputs": [
    {
     "data": {
      "text/plain": [
       "{4, 8, 10}"
      ]
     },
     "execution_count": 61,
     "metadata": {},
     "output_type": "execute_result"
    }
   ],
   "source": [
    "a.difference(b)"
   ]
  },
  {
   "cell_type": "code",
   "execution_count": 62,
   "id": "149c4012-b8a2-4939-9ddd-1b660a2e03d9",
   "metadata": {},
   "outputs": [
    {
     "data": {
      "text/plain": [
       "{3, 4, 8, 9, 10}"
      ]
     },
     "execution_count": 62,
     "metadata": {},
     "output_type": "execute_result"
    }
   ],
   "source": [
    "a.symmetric_difference(b)"
   ]
  },
  {
   "cell_type": "code",
   "execution_count": 63,
   "id": "711086ee-1aa8-438e-b71b-aceee481bb52",
   "metadata": {},
   "outputs": [
    {
     "data": {
      "text/plain": [
       "<zip at 0x1ebdad035c0>"
      ]
     },
     "execution_count": 63,
     "metadata": {},
     "output_type": "execute_result"
    }
   ],
   "source": [
    "a = ['사과', '배', '딸기', '포도']\n",
    "b = (10, 20, 30, 40)\n",
    "\n",
    "zip(a,b)"
   ]
  },
  {
   "cell_type": "code",
   "execution_count": 64,
   "id": "d6f2e4c3-971e-4a23-b40b-86fcc5131223",
   "metadata": {},
   "outputs": [
    {
     "data": {
      "text/plain": [
       "[('사과', 10), ('배', 20), ('딸기', 30), ('포도', 40)]"
      ]
     },
     "execution_count": 64,
     "metadata": {},
     "output_type": "execute_result"
    }
   ],
   "source": [
    "list(zip(a,b))"
   ]
  },
  {
   "cell_type": "code",
   "execution_count": 65,
   "id": "28df1a32-5a31-4e57-b421-33a3fe4f6cdf",
   "metadata": {},
   "outputs": [
    {
     "data": {
      "text/plain": [
       "{'사과': 10, '배': 20, '딸기': 30, '포도': 40}"
      ]
     },
     "execution_count": 65,
     "metadata": {},
     "output_type": "execute_result"
    }
   ],
   "source": [
    "dict(zip(a,b))"
   ]
  },
  {
   "cell_type": "code",
   "execution_count": 66,
   "id": "00fc3068-97a7-4c14-b81b-74806fbc32ac",
   "metadata": {},
   "outputs": [
    {
     "data": {
      "text/plain": [
       "[(0, '사과'), (1, '배'), (2, '딸기'), (3, '포도')]"
      ]
     },
     "execution_count": 66,
     "metadata": {},
     "output_type": "execute_result"
    }
   ],
   "source": [
    "list(enumerate(a))"
   ]
  },
  {
   "cell_type": "code",
   "execution_count": 67,
   "id": "cb731dcd-d787-46f3-a48b-8df309aeddbe",
   "metadata": {},
   "outputs": [
    {
     "data": {
      "text/plain": [
       "[(1, '사과'), (2, '배'), (3, '딸기'), (4, '포도')]"
      ]
     },
     "execution_count": 67,
     "metadata": {},
     "output_type": "execute_result"
    }
   ],
   "source": [
    "list(enumerate(a, start=1))"
   ]
  },
  {
   "cell_type": "code",
   "execution_count": null,
   "id": "2ed52807-74d4-4ce4-8998-4dbc507ac516",
   "metadata": {},
   "outputs": [],
   "source": []
  }
 ],
 "metadata": {
  "kernelspec": {
   "display_name": "Python 3 (ipykernel)",
   "language": "python",
   "name": "python3"
  },
  "language_info": {
   "codemirror_mode": {
    "name": "ipython",
    "version": 3
   },
   "file_extension": ".py",
   "mimetype": "text/x-python",
   "name": "python",
   "nbconvert_exporter": "python",
   "pygments_lexer": "ipython3",
   "version": "3.9.7"
  }
 },
 "nbformat": 4,
 "nbformat_minor": 5
}
