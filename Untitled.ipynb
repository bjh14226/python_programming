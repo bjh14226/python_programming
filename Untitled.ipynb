{
 "cells": [
  {
   "cell_type": "markdown",
   "id": "eac7503d-5c71-4f6e-a929-3790997d307f",
   "metadata": {},
   "source": [
    "# 이렇게 설명을 쓸 수 있는 노트북!"
   ]
  },
  {
   "cell_type": "code",
   "execution_count": 1,
   "id": "a0fe03da-55f2-4382-b961-13dde932c3d0",
   "metadata": {},
   "outputs": [
    {
     "name": "stdout",
     "output_type": "stream",
     "text": [
      "hello world\n"
     ]
    }
   ],
   "source": [
    "print('hello world')"
   ]
  },
  {
   "cell_type": "code",
   "execution_count": null,
   "id": "1f1a8c4c-8000-4177-b681-65a4255d179f",
   "metadata": {},
   "outputs": [],
   "source": []
  }
 ],
 "metadata": {
  "kernelspec": {
   "display_name": "Python 3 (ipykernel)",
   "language": "python",
   "name": "python3"
  },
  "language_info": {
   "codemirror_mode": {
    "name": "ipython",
    "version": 3
   },
   "file_extension": ".py",
   "mimetype": "text/x-python",
   "name": "python",
   "nbconvert_exporter": "python",
   "pygments_lexer": "ipython3",
   "version": "3.9.7"
  }
 },
 "nbformat": 4,
 "nbformat_minor": 5
}
