{
 "cells": [
  {
   "cell_type": "code",
   "execution_count": 1,
   "id": "de1033db-79aa-40fe-9fed-d501dedb9506",
   "metadata": {},
   "outputs": [
    {
     "name": "stdout",
     "output_type": "stream",
     "text": [
      "['에스프레소', '아메리카노', '카페라떼', '카페모카']\n"
     ]
    }
   ],
   "source": [
    "#p161\n",
    "\n",
    "coffee = ['에스프레소', '아메리카노', '카페라떼', '카페모카']\n",
    "\n",
    "print(coffee)"
   ]
  },
  {
   "cell_type": "code",
   "execution_count": 2,
   "id": "48096176-0b17-48ec-8718-fcd85c7b7b2a",
   "metadata": {},
   "outputs": [
    {
     "data": {
      "text/plain": [
       "list"
      ]
     },
     "execution_count": 2,
     "metadata": {},
     "output_type": "execute_result"
    }
   ],
   "source": [
    "type(coffee)\n"
   ]
  },
  {
   "cell_type": "code",
   "execution_count": 6,
   "id": "1884b7a6-d060-44ae-8618-64652a0ac13e",
   "metadata": {},
   "outputs": [
    {
     "name": "stdout",
     "output_type": "stream",
     "text": [
      "1, 에스프레소\n",
      "2, 아메리카노\n",
      "3, 카페라떼\n",
      "4, 카페모카\n"
     ]
    }
   ],
   "source": [
    "num = 0\n",
    "for s in coffee:\n",
    "    num += 1\n",
    "    print(f'{num}, {s}')"
   ]
  },
  {
   "cell_type": "code",
   "execution_count": 7,
   "id": "25965ff2-fe8a-4fa6-9db7-3b656b98fef1",
   "metadata": {},
   "outputs": [
    {
     "name": "stdout",
     "output_type": "stream",
     "text": [
      "=============================================\n",
      "    COFFEE         BEVERAGE          WATER      \n",
      "=============================================\n",
      "  에스프레소   \n",
      "  아메리카노   \n",
      "   카페라떼   \n",
      "   카페모카   \n"
     ]
    }
   ],
   "source": [
    "coffee = ['에스프레소', '아메리카노', '카페라떼', '카페모카']\n",
    "menu = ['COFFEE', 'BEVERAGE', 'WATER']\n",
    "\n",
    "print('='*45)\n",
    "\n",
    "for cat in menu:\n",
    "    print(f'{cat:^15s}', end=' ')\n",
    "    \n",
    "print()\n",
    "print('='*45)\n",
    "\n",
    "for c in coffee:\n",
    "    print(f'{c:^10s}')"
   ]
  },
  {
   "cell_type": "code",
   "execution_count": 9,
   "id": "b03edde3-d251-43f4-be7b-b4ef969e34dd",
   "metadata": {},
   "outputs": [
    {
     "name": "stdin",
     "output_type": "stream",
     "text": [
      "구입 품목? 사과\n"
     ]
    },
    {
     "name": "stdout",
     "output_type": "stream",
     "text": [
      "['사과']\n"
     ]
    },
    {
     "name": "stdin",
     "output_type": "stream",
     "text": [
      "구입 품목? 배\n"
     ]
    },
    {
     "name": "stdout",
     "output_type": "stream",
     "text": [
      "['사과', '배']\n"
     ]
    },
    {
     "name": "stdin",
     "output_type": "stream",
     "text": [
      "구입 품목? 감\n"
     ]
    },
    {
     "name": "stdout",
     "output_type": "stream",
     "text": [
      "['사과', '배', '감']\n",
      "3\n"
     ]
    }
   ],
   "source": [
    "goods = []\n",
    "for i in range(3):\n",
    "    item = input('구입 품목?')\n",
    "    goods.append(item)\n",
    "    print(goods)\n",
    "\n",
    "print(len(goods))"
   ]
  },
  {
   "cell_type": "code",
   "execution_count": 12,
   "id": "13a8765e-72d8-4b21-9640-aa195f41e3b7",
   "metadata": {},
   "outputs": [
    {
     "data": {
      "text/plain": [
       "3"
      ]
     },
     "execution_count": 12,
     "metadata": {},
     "output_type": "execute_result"
    }
   ],
   "source": [
    "#p166\n",
    "\n",
    "top = ['BTS', '볼빨간사춘기', 'BTS', '블랙핑크', '태연', 'BTS']\n",
    "top.count('BTS')"
   ]
  },
  {
   "cell_type": "code",
   "execution_count": 13,
   "id": "abc4fddd-a3db-4985-b5f8-661c6e59ec17",
   "metadata": {},
   "outputs": [
    {
     "data": {
      "text/plain": [
       "0"
      ]
     },
     "execution_count": 13,
     "metadata": {},
     "output_type": "execute_result"
    }
   ],
   "source": [
    "top.index('BTS')"
   ]
  },
  {
   "cell_type": "code",
   "execution_count": 14,
   "id": "9871fa4e-f49f-4d80-9bef-36b42a3a3e41",
   "metadata": {},
   "outputs": [
    {
     "ename": "ValueError",
     "evalue": "'여자친구' is not in list",
     "output_type": "error",
     "traceback": [
      "\u001b[1;31m---------------------------------------------------------------------------\u001b[0m",
      "\u001b[1;31mValueError\u001b[0m                                Traceback (most recent call last)",
      "\u001b[1;32m~\\AppData\\Local\\Temp/ipykernel_5320/746460256.py\u001b[0m in \u001b[0;36m<module>\u001b[1;34m\u001b[0m\n\u001b[1;32m----> 1\u001b[1;33m \u001b[0mtop\u001b[0m\u001b[1;33m.\u001b[0m\u001b[0mindex\u001b[0m\u001b[1;33m(\u001b[0m\u001b[1;34m'여자친구'\u001b[0m\u001b[1;33m)\u001b[0m\u001b[1;33m\u001b[0m\u001b[1;33m\u001b[0m\u001b[0m\n\u001b[0m",
      "\u001b[1;31mValueError\u001b[0m: '여자친구' is not in list"
     ]
    }
   ],
   "source": [
    "top.index('여자친구')"
   ]
  },
  {
   "cell_type": "code",
   "execution_count": 15,
   "id": "6680b952-a2a3-4033-8ae7-e37f439cbab7",
   "metadata": {},
   "outputs": [],
   "source": [
    "if '여자친구' in top:\n",
    "    top.index('여자친구')\n",
    "else:\n",
    "    print('존재하지 않음')"
   ]
  },
  {
   "cell_type": "code",
   "execution_count": 19,
   "id": "da98cd65-a2a9-471c-8eb3-d8628e11c738",
   "metadata": {},
   "outputs": [
    {
     "data": {
      "text/plain": [
       "['BTS', '장범준', 'BTS', '블랙핑크', '태연', 'BTS']"
      ]
     },
     "execution_count": 19,
     "metadata": {},
     "output_type": "execute_result"
    }
   ],
   "source": [
    "top = ['BTS', '볼빨간사춘기', 'BTS', '블랙핑크', '태연', 'BTS']\n",
    "top[1] = '장범준'\n",
    "\n",
    "top"
   ]
  },
  {
   "cell_type": "code",
   "execution_count": 21,
   "id": "228dcae9-dde0-42a6-8ea0-f1a108718243",
   "metadata": {},
   "outputs": [],
   "source": [
    "top[top.index('태연')] = '소녀시대'"
   ]
  },
  {
   "cell_type": "code",
   "execution_count": 22,
   "id": "3ce3316c-f9a6-4029-bfa3-96bddd4eeb31",
   "metadata": {},
   "outputs": [
    {
     "data": {
      "text/plain": [
       "['BTS', '장범준', 'BTS', '블랙핑크', '소녀시대', 'BTS']"
      ]
     },
     "execution_count": 22,
     "metadata": {},
     "output_type": "execute_result"
    }
   ],
   "source": [
    "top"
   ]
  },
  {
   "cell_type": "code",
   "execution_count": 25,
   "id": "838df9f4-95ca-484c-ba01-726d4be4d50a",
   "metadata": {},
   "outputs": [
    {
     "data": {
      "text/plain": [
       "'호랑이'"
      ]
     },
     "execution_count": 25,
     "metadata": {},
     "output_type": "execute_result"
    }
   ],
   "source": [
    "animal = [['사자','코끼리','호랑이'],'조류','어류']\n",
    "animal[0][2]"
   ]
  },
  {
   "cell_type": "code",
   "execution_count": 26,
   "id": "ddd3983d-3710-4f64-aaec-fc56fcfab33d",
   "metadata": {},
   "outputs": [
    {
     "name": "stdout",
     "output_type": "stream",
     "text": [
      "['사자', '코끼리', '호랑이']\n",
      "조류\n",
      "어류\n"
     ]
    }
   ],
   "source": [
    "for i in animal:\n",
    "    print(i)"
   ]
  },
  {
   "cell_type": "code",
   "execution_count": 27,
   "id": "1488733f-984a-44fd-8745-52b3d9f56f54",
   "metadata": {},
   "outputs": [],
   "source": [
    "animal.append(5)"
   ]
  },
  {
   "cell_type": "code",
   "execution_count": 28,
   "id": "cbdce69d-3d47-4d6f-b849-b7e5e60696bd",
   "metadata": {},
   "outputs": [
    {
     "data": {
      "text/plain": [
       "[['사자', '코끼리', '호랑이'], '조류', '어류', 5]"
      ]
     },
     "execution_count": 28,
     "metadata": {},
     "output_type": "execute_result"
    }
   ],
   "source": [
    "animal"
   ]
  },
  {
   "cell_type": "code",
   "execution_count": 29,
   "id": "cc182539-4358-4730-9a75-d86b226fbeed",
   "metadata": {},
   "outputs": [
    {
     "data": {
      "text/plain": [
       "5"
      ]
     },
     "execution_count": 29,
     "metadata": {},
     "output_type": "execute_result"
    }
   ],
   "source": [
    "animal.pop()"
   ]
  },
  {
   "cell_type": "code",
   "execution_count": 30,
   "id": "c6494fba-721d-4471-ad80-1588962c8f3b",
   "metadata": {},
   "outputs": [
    {
     "data": {
      "text/plain": [
       "[['사자', '코끼리', '호랑이'], '조류', '어류']"
      ]
     },
     "execution_count": 30,
     "metadata": {},
     "output_type": "execute_result"
    }
   ],
   "source": [
    "animal"
   ]
  },
  {
   "cell_type": "code",
   "execution_count": 31,
   "id": "c9a3853c-f86f-4a29-a9c5-b8591d9e557f",
   "metadata": {},
   "outputs": [],
   "source": [
    "bird = ['참새','독수리','학']\n",
    "fish = ['고등어','삼치','오징어']\n",
    "\n",
    "animal[1:] = [bird, fish]"
   ]
  },
  {
   "cell_type": "code",
   "execution_count": 32,
   "id": "cd132187-6e43-4dca-9504-c4b8670eb62d",
   "metadata": {},
   "outputs": [
    {
     "data": {
      "text/plain": [
       "[['사자', '코끼리', '호랑이'], ['참새', '독수리', '학'], ['고등어', '삼치', '오징어']]"
      ]
     },
     "execution_count": 32,
     "metadata": {},
     "output_type": "execute_result"
    }
   ],
   "source": [
    "animal"
   ]
  },
  {
   "cell_type": "code",
   "execution_count": 35,
   "id": "375ca8ae-c040-47f6-a7e1-9fca0ffe6fbf",
   "metadata": {},
   "outputs": [
    {
     "name": "stdout",
     "output_type": "stream",
     "text": [
      "['사자', '코끼리', '호랑이'] \n",
      "['참새', '독수리', '학'] \n",
      "['고등어', '삼치', '오징어'] \n"
     ]
    }
   ],
   "source": [
    "for i in animal:\n",
    "        print(i, end=' ')\n",
    "        print()"
   ]
  },
  {
   "cell_type": "code",
   "execution_count": 47,
   "id": "fb62bed1-7ab3-4d86-9430-2b7bd4936978",
   "metadata": {},
   "outputs": [
    {
     "data": {
      "text/plain": [
       "['축구', '야구', '농구', '배구', '탁구', '테니스']"
      ]
     },
     "execution_count": 47,
     "metadata": {},
     "output_type": "execute_result"
    }
   ],
   "source": [
    "#p175\n",
    "\n",
    "sports = ['축구', '야구', '농구', '배구', '탁구', '테니스']\n",
    "sports"
   ]
  },
  {
   "cell_type": "code",
   "execution_count": 48,
   "id": "aa4f7543-2b4c-4924-ba5e-2d1236444d99",
   "metadata": {},
   "outputs": [],
   "source": [
    "sports[:3] = '배드민턴'"
   ]
  },
  {
   "cell_type": "code",
   "execution_count": 49,
   "id": "a14e440e-2b31-48e5-bcf2-24b4b6de43a4",
   "metadata": {},
   "outputs": [
    {
     "data": {
      "text/plain": [
       "['배', '드', '민', '턴', '배구', '탁구', '테니스']"
      ]
     },
     "execution_count": 49,
     "metadata": {},
     "output_type": "execute_result"
    }
   ],
   "source": [
    "sports"
   ]
  },
  {
   "cell_type": "code",
   "execution_count": 50,
   "id": "49ad1022-32e0-41e4-baa3-007b8b7e07b1",
   "metadata": {},
   "outputs": [],
   "source": [
    "sports[:4] = ['배드민턴']"
   ]
  },
  {
   "cell_type": "code",
   "execution_count": 51,
   "id": "83e9f278-6d63-45d1-acd7-d4f5a245df6c",
   "metadata": {},
   "outputs": [
    {
     "data": {
      "text/plain": [
       "['배드민턴', '배구', '탁구', '테니스']"
      ]
     },
     "execution_count": 51,
     "metadata": {},
     "output_type": "execute_result"
    }
   ],
   "source": [
    "sports"
   ]
  },
  {
   "cell_type": "code",
   "execution_count": 55,
   "id": "b3fbec1e-732d-4aad-816f-927f78bb2de2",
   "metadata": {},
   "outputs": [
    {
     "data": {
      "text/plain": [
       "['BTS', '블랙핑크']"
      ]
     },
     "execution_count": 55,
     "metadata": {},
     "output_type": "execute_result"
    }
   ],
   "source": [
    "kpop = []\n",
    "kpop.insert(0, '블랙핑크')\n",
    "kpop.insert(0, 'BTS')\n",
    "kpop"
   ]
  },
  {
   "cell_type": "code",
   "execution_count": 56,
   "id": "4fe11938-b7e7-49a9-952a-67023b587f19",
   "metadata": {},
   "outputs": [
    {
     "data": {
      "text/plain": [
       "['BTS', '에스파', '블랙핑크']"
      ]
     },
     "execution_count": 56,
     "metadata": {},
     "output_type": "execute_result"
    }
   ],
   "source": [
    "kpop.insert(1, '에스파')\n",
    "kpop"
   ]
  },
  {
   "cell_type": "code",
   "execution_count": 58,
   "id": "7db07512-2fff-4e5e-a9e6-be627daaac13",
   "metadata": {},
   "outputs": [],
   "source": [
    "kpop.remove('블랙핑크')"
   ]
  },
  {
   "cell_type": "code",
   "execution_count": 59,
   "id": "953b13da-87ed-4689-b9d5-367fb9e2c7c5",
   "metadata": {},
   "outputs": [
    {
     "data": {
      "text/plain": [
       "['BTS', '에스파']"
      ]
     },
     "execution_count": 59,
     "metadata": {},
     "output_type": "execute_result"
    }
   ],
   "source": [
    "kpop"
   ]
  },
  {
   "cell_type": "code",
   "execution_count": 60,
   "id": "27c73469-3936-428c-a92f-4d6d1fe9c92b",
   "metadata": {},
   "outputs": [],
   "source": [
    "kpop.append('BTS')"
   ]
  },
  {
   "cell_type": "code",
   "execution_count": 61,
   "id": "72141188-69d3-4753-ae00-7f03778b75e1",
   "metadata": {},
   "outputs": [
    {
     "data": {
      "text/plain": [
       "['BTS', '에스파', 'BTS']"
      ]
     },
     "execution_count": 61,
     "metadata": {},
     "output_type": "execute_result"
    }
   ],
   "source": [
    "kpop"
   ]
  },
  {
   "cell_type": "code",
   "execution_count": 62,
   "id": "efea8b0b-b720-4bc2-a56f-6a76a6d79fec",
   "metadata": {},
   "outputs": [],
   "source": [
    "kpop.remove('BTS')"
   ]
  },
  {
   "cell_type": "code",
   "execution_count": 63,
   "id": "7a95c390-f695-4f4d-8250-bc554de25b9f",
   "metadata": {},
   "outputs": [
    {
     "data": {
      "text/plain": [
       "['에스파', 'BTS']"
      ]
     },
     "execution_count": 63,
     "metadata": {},
     "output_type": "execute_result"
    }
   ],
   "source": [
    "kpop"
   ]
  },
  {
   "cell_type": "code",
   "execution_count": 64,
   "id": "c89f7e91-bf6f-4a60-919d-d1f1492f3f66",
   "metadata": {},
   "outputs": [
    {
     "data": {
      "text/plain": [
       "'BTS'"
      ]
     },
     "execution_count": 64,
     "metadata": {},
     "output_type": "execute_result"
    }
   ],
   "source": [
    "kpop.pop()"
   ]
  },
  {
   "cell_type": "code",
   "execution_count": 65,
   "id": "2b7634fc-c7b5-4649-9bdf-dec3adfd7c0a",
   "metadata": {},
   "outputs": [
    {
     "data": {
      "text/plain": [
       "['에스파']"
      ]
     },
     "execution_count": 65,
     "metadata": {},
     "output_type": "execute_result"
    }
   ],
   "source": [
    "kpop"
   ]
  },
  {
   "cell_type": "code",
   "execution_count": 71,
   "id": "c97e3782-a76f-45c6-9708-d77b06c4bb6e",
   "metadata": {},
   "outputs": [
    {
     "data": {
      "text/plain": [
       "['BTS', '에스파']"
      ]
     },
     "execution_count": 71,
     "metadata": {},
     "output_type": "execute_result"
    }
   ],
   "source": [
    "kpop = ['BTS', '에스파', '블랙핑크']\n",
    "del kpop[2]\n",
    "kpop"
   ]
  },
  {
   "cell_type": "code",
   "execution_count": 72,
   "id": "f6a145ba-9782-44f4-b071-47136f087af4",
   "metadata": {},
   "outputs": [
    {
     "data": {
      "text/plain": [
       "['에스파']"
      ]
     },
     "execution_count": 72,
     "metadata": {},
     "output_type": "execute_result"
    }
   ],
   "source": [
    "del kpop[0]\n",
    "kpop"
   ]
  },
  {
   "cell_type": "code",
   "execution_count": 73,
   "id": "c66b7aa5-3b78-400f-b8ae-3de505ba4f85",
   "metadata": {},
   "outputs": [
    {
     "ename": "NameError",
     "evalue": "name 'kpop' is not defined",
     "output_type": "error",
     "traceback": [
      "\u001b[1;31m---------------------------------------------------------------------------\u001b[0m",
      "\u001b[1;31mNameError\u001b[0m                                 Traceback (most recent call last)",
      "\u001b[1;32m~\\AppData\\Local\\Temp/ipykernel_5320/2776672554.py\u001b[0m in \u001b[0;36m<module>\u001b[1;34m\u001b[0m\n\u001b[0;32m      1\u001b[0m \u001b[1;32mdel\u001b[0m \u001b[0mkpop\u001b[0m\u001b[1;33m\u001b[0m\u001b[1;33m\u001b[0m\u001b[0m\n\u001b[1;32m----> 2\u001b[1;33m \u001b[0mkpop\u001b[0m\u001b[1;33m\u001b[0m\u001b[1;33m\u001b[0m\u001b[0m\n\u001b[0m",
      "\u001b[1;31mNameError\u001b[0m: name 'kpop' is not defined"
     ]
    }
   ],
   "source": [
    "del kpop\n",
    "kpop"
   ]
  },
  {
   "cell_type": "code",
   "execution_count": 74,
   "id": "44bdec4f-e286-4683-a96f-e18ec690fff7",
   "metadata": {},
   "outputs": [],
   "source": [
    "day = list('월화수목')\n",
    "day1 = list('금토일')\n",
    "\n",
    "day.extend(day1)"
   ]
  },
  {
   "cell_type": "code",
   "execution_count": 75,
   "id": "3babef96-f4b0-43cd-8c1a-071ebd9b20e2",
   "metadata": {},
   "outputs": [
    {
     "data": {
      "text/plain": [
       "['월', '화', '수', '목', '금', '토', '일']"
      ]
     },
     "execution_count": 75,
     "metadata": {},
     "output_type": "execute_result"
    }
   ],
   "source": [
    "day"
   ]
  },
  {
   "cell_type": "code",
   "execution_count": 76,
   "id": "e7e919e5-c5da-4293-8ae7-d1a49ee63b03",
   "metadata": {},
   "outputs": [
    {
     "data": {
      "text/plain": [
       "['월', '화', '수', '목', '금', '토', '일']"
      ]
     },
     "execution_count": 76,
     "metadata": {},
     "output_type": "execute_result"
    }
   ],
   "source": [
    "list('월화수목') + list('금토일')"
   ]
  },
  {
   "cell_type": "code",
   "execution_count": 86,
   "id": "bf803825-3c21-41b0-af51-a7578cf71a61",
   "metadata": {},
   "outputs": [],
   "source": [
    "day = list('월화수목')\n",
    "day1 = list('금토일')\n"
   ]
  },
  {
   "cell_type": "code",
   "execution_count": 87,
   "id": "17b7b4f4-ebc9-46c0-b263-7de1e5322876",
   "metadata": {},
   "outputs": [],
   "source": [
    "day.append(day1)"
   ]
  },
  {
   "cell_type": "code",
   "execution_count": 88,
   "id": "da96c7f4-2b63-4e46-bc3e-30db9c403c9a",
   "metadata": {},
   "outputs": [
    {
     "data": {
      "text/plain": [
       "['월', '화', '수', '목', ['금', '토', '일']]"
      ]
     },
     "execution_count": 88,
     "metadata": {},
     "output_type": "execute_result"
    }
   ],
   "source": [
    "day"
   ]
  },
  {
   "cell_type": "code",
   "execution_count": 128,
   "id": "962e07ef-6092-4ac6-aa5d-a88cfd929c21",
   "metadata": {},
   "outputs": [
    {
     "data": {
      "text/plain": [
       "['월', '화', '수', '목', '금', '토', '일']"
      ]
     },
     "execution_count": 128,
     "metadata": {},
     "output_type": "execute_result"
    }
   ],
   "source": [
    "day = list('월화수목')\n",
    "day1 = list('금토일')\n",
    "day.extend(day1)\n",
    "day"
   ]
  },
  {
   "cell_type": "code",
   "execution_count": 130,
   "id": "e29f62e3-2e47-4105-8a81-3c2476352375",
   "metadata": {},
   "outputs": [
    {
     "data": {
      "text/plain": [
       "['월', '화', '수', '목', '금', '토', '일']"
      ]
     },
     "execution_count": 130,
     "metadata": {},
     "output_type": "execute_result"
    }
   ],
   "source": [
    "\n",
    "day.reverse()\n",
    "day"
   ]
  },
  {
   "cell_type": "code",
   "execution_count": 122,
   "id": "18215bdc-fc87-48b5-bfbf-7b3fe2b42254",
   "metadata": {},
   "outputs": [],
   "source": [
    "day.sort()"
   ]
  },
  {
   "cell_type": "code",
   "execution_count": 123,
   "id": "001d535d-3254-4713-bf0f-66270f8d4ba1",
   "metadata": {},
   "outputs": [
    {
     "data": {
      "text/plain": [
       "['금', '목', '수', '월', '일', '토', '화']"
      ]
     },
     "execution_count": 123,
     "metadata": {},
     "output_type": "execute_result"
    }
   ],
   "source": [
    "day"
   ]
  },
  {
   "cell_type": "code",
   "execution_count": 124,
   "id": "26d9464a-aa75-4f91-8313-3b405906b7ea",
   "metadata": {},
   "outputs": [
    {
     "data": {
      "text/plain": [
       "['화', '토', '일', '월', '수', '목', '금']"
      ]
     },
     "execution_count": 124,
     "metadata": {},
     "output_type": "execute_result"
    }
   ],
   "source": [
    "day.sort(reverse=True)\n",
    "day"
   ]
  },
  {
   "cell_type": "code",
   "execution_count": 96,
   "id": "f8dadb22-8a72-4c2f-9919-c0736bc1aded",
   "metadata": {},
   "outputs": [
    {
     "data": {
      "text/plain": [
       "['금', '목', '수', '월', '일', '토', '화']"
      ]
     },
     "execution_count": 96,
     "metadata": {},
     "output_type": "execute_result"
    }
   ],
   "source": [
    "sorted(day)"
   ]
  },
  {
   "cell_type": "code",
   "execution_count": 97,
   "id": "92b2bb51-dd9b-44c3-9108-987160af9e12",
   "metadata": {},
   "outputs": [
    {
     "data": {
      "text/plain": [
       "['화', '토', '일', '월', '수', '목', '금']"
      ]
     },
     "execution_count": 97,
     "metadata": {},
     "output_type": "execute_result"
    }
   ],
   "source": [
    "day"
   ]
  },
  {
   "cell_type": "code",
   "execution_count": 99,
   "id": "e4d62d9e-7879-453f-84cf-7936d31b8126",
   "metadata": {},
   "outputs": [
    {
     "name": "stdout",
     "output_type": "stream",
     "text": [
      "[3, 6, 9, 12, 15, 18]\n"
     ]
    }
   ],
   "source": [
    "#p182\n",
    "threes = []\n",
    "for i in range(1, 20):\n",
    "    if i % 3 == 0:\n",
    "        threes.append(i)\n",
    "else:\n",
    "    print(threes)\n"
   ]
  },
  {
   "cell_type": "code",
   "execution_count": 100,
   "id": "098fc2b3-3a55-4915-821d-16e29c0ee9d3",
   "metadata": {},
   "outputs": [
    {
     "data": {
      "text/plain": [
       "[3, 6, 9, 12, 15, 18]"
      ]
     },
     "execution_count": 100,
     "metadata": {},
     "output_type": "execute_result"
    }
   ],
   "source": [
    "[i \n",
    " for i in range(1, 20) \n",
    " if i % 3 == 0]"
   ]
  },
  {
   "cell_type": "code",
   "execution_count": 101,
   "id": "5f46054f-567c-4664-bcc7-2afba019d803",
   "metadata": {},
   "outputs": [
    {
     "name": "stdout",
     "output_type": "stream",
     "text": [
      "1845042010496 1845042010496\n"
     ]
    }
   ],
   "source": [
    "l1 = ['사과', '복숭아', '배']\n",
    "l2 = l1\n",
    "\n",
    "print(id(l1), id(l2))"
   ]
  },
  {
   "cell_type": "code",
   "execution_count": 102,
   "id": "6e0094fc-db26-44de-a46e-0de6d1614028",
   "metadata": {},
   "outputs": [
    {
     "data": {
      "text/plain": [
       "['사과', '복숭아', '배', '딸기']"
      ]
     },
     "execution_count": 102,
     "metadata": {},
     "output_type": "execute_result"
    }
   ],
   "source": [
    "l2.append('딸기')\n",
    "l1"
   ]
  },
  {
   "cell_type": "code",
   "execution_count": 107,
   "id": "edfedc3b-e893-4952-8ce6-6e549bcee0af",
   "metadata": {},
   "outputs": [
    {
     "name": "stdout",
     "output_type": "stream",
     "text": [
      "1845042010496 1845042825152\n"
     ]
    }
   ],
   "source": [
    "l2 = l1.copy()\n",
    "print(id(l1), id(l2))"
   ]
  },
  {
   "cell_type": "code",
   "execution_count": 108,
   "id": "a9dbc0b3-07f9-4063-bb51-45eb6ce6f1f7",
   "metadata": {},
   "outputs": [],
   "source": [
    "a = 1, 2"
   ]
  },
  {
   "cell_type": "code",
   "execution_count": 109,
   "id": "7bf8664f-6732-45c2-8c11-206bbeb14464",
   "metadata": {},
   "outputs": [
    {
     "data": {
      "text/plain": [
       "(1, 2)"
      ]
     },
     "execution_count": 109,
     "metadata": {},
     "output_type": "execute_result"
    }
   ],
   "source": [
    "a"
   ]
  },
  {
   "cell_type": "code",
   "execution_count": 111,
   "id": "700bd28f-9fb0-423d-8b13-2f4a360628ee",
   "metadata": {},
   "outputs": [
    {
     "data": {
      "text/plain": [
       "tuple"
      ]
     },
     "execution_count": 111,
     "metadata": {},
     "output_type": "execute_result"
    }
   ],
   "source": [
    "a = (1, )\n",
    "type(a)"
   ]
  },
  {
   "cell_type": "code",
   "execution_count": 112,
   "id": "e5373b37-2605-406e-8f74-0f8186e9dd64",
   "metadata": {},
   "outputs": [],
   "source": [
    "a = 1, 2"
   ]
  },
  {
   "cell_type": "code",
   "execution_count": 113,
   "id": "9662f2b9-54e3-47d5-9a1b-f131eb2754ab",
   "metadata": {},
   "outputs": [
    {
     "data": {
      "text/plain": [
       "1"
      ]
     },
     "execution_count": 113,
     "metadata": {},
     "output_type": "execute_result"
    }
   ],
   "source": [
    "a[0]"
   ]
  },
  {
   "cell_type": "code",
   "execution_count": 131,
   "id": "f65b597c-3eba-4009-855c-1a940af59267",
   "metadata": {},
   "outputs": [
    {
     "ename": "TypeError",
     "evalue": "'tuple' object does not support item assignment",
     "output_type": "error",
     "traceback": [
      "\u001b[1;31m---------------------------------------------------------------------------\u001b[0m",
      "\u001b[1;31mTypeError\u001b[0m                                 Traceback (most recent call last)",
      "\u001b[1;32m~\\AppData\\Local\\Temp/ipykernel_5320/3686271957.py\u001b[0m in \u001b[0;36m<module>\u001b[1;34m\u001b[0m\n\u001b[1;32m----> 1\u001b[1;33m \u001b[0ma\u001b[0m\u001b[1;33m[\u001b[0m\u001b[1;36m0\u001b[0m\u001b[1;33m]\u001b[0m \u001b[1;33m=\u001b[0m \u001b[1;36m1\u001b[0m\u001b[1;33m\u001b[0m\u001b[1;33m\u001b[0m\u001b[0m\n\u001b[0m",
      "\u001b[1;31mTypeError\u001b[0m: 'tuple' object does not support item assignment"
     ]
    }
   ],
   "source": [
    "a[0] = 1"
   ]
  },
  {
   "cell_type": "code",
   "execution_count": null,
   "id": "1b0c3c09-3890-4b08-968d-4b2c4e80b107",
   "metadata": {},
   "outputs": [],
   "source": []
  }
 ],
 "metadata": {
  "kernelspec": {
   "display_name": "Python 3 (ipykernel)",
   "language": "python",
   "name": "python3"
  },
  "language_info": {
   "codemirror_mode": {
    "name": "ipython",
    "version": 3
   },
   "file_extension": ".py",
   "mimetype": "text/x-python",
   "name": "python",
   "nbconvert_exporter": "python",
   "pygments_lexer": "ipython3",
   "version": "3.9.7"
  }
 },
 "nbformat": 4,
 "nbformat_minor": 5
}
